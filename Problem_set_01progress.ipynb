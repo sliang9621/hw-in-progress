{
  "nbformat": 4,
  "nbformat_minor": 0,
  "metadata": {
    "colab": {
      "name": "Problem_set_01_working_with_data_sources-1.ipynb",
      "provenance": [],
      "toc_visible": true,
      "include_colab_link": true
    },
    "kernelspec": {
      "display_name": "Python 3",
      "language": "python",
      "name": "python3"
    },
    "language_info": {
      "codemirror_mode": {
        "name": "ipython",
        "version": 3
      },
      "file_extension": ".py",
      "mimetype": "text/x-python",
      "name": "python",
      "nbconvert_exporter": "python",
      "pygments_lexer": "ipython3",
      "version": "3.8.3"
    }
  },
  "cells": [
    {
      "cell_type": "markdown",
      "metadata": {
        "id": "view-in-github",
        "colab_type": "text"
      },
      "source": [
        "<a href=\"https://colab.research.google.com/github/sliang9621/hw-in-progress/blob/main/Problem_set_01progress.ipynb\" target=\"_parent\"><img src=\"https://colab.research.google.com/assets/colab-badge.svg\" alt=\"Open In Colab\"/></a>"
      ]
    },
    {
      "cell_type": "markdown",
      "metadata": {
        "id": "_Jk-XWL_ICsc"
      },
      "source": [
        "This notebook is part the of Dr. Christoforos Christoforou's course materials. You may not, nor may you knowingly allow others to reproduce or distribute lecture notes, course materials or any of their derivatives without the instructor's express written consent."
      ]
    },
    {
      "cell_type": "markdown",
      "metadata": {
        "id": "mGWGpILX6Caz"
      },
      "source": [
        "# Problem Set 01 - Managing Data Sources \n",
        "**Professor:** Dr. Christoforos Christoforou\n",
        "\n",
        "For this problem set you will need the following libraries, which are pre-installed with the colab environment: \n",
        "\n",
        "* [Numpy](https://www.numpy.org/) is an array manipulation library, used for linear algebra, Fourier transform, and random number capabilities.\n",
        "* [Pandas](https://pandas.pydata.org/) is a library for data manipulation and data analysis.\n",
        "* [Matplotlib](https://matplotlib.org/) is a library which generates figures and provides graphical user interface toolkit.\n",
        "\n",
        "You can load them using the following import statement:"
      ]
    },
    {
      "cell_type": "code",
      "metadata": {
        "id": "m5xcgMf35rfn"
      },
      "source": [
        "import numpy as np\n",
        "import pandas as pd\n",
        "import matplotlib.pylab as plt"
      ],
      "execution_count": 2,
      "outputs": []
    },
    {
      "cell_type": "markdown",
      "metadata": {
        "id": "u8OAdWmcnViS"
      },
      "source": [
        "## 1. Overview \n",
        "\n",
        "In the lecture, we saw that we need to load and represent the data as mathematical objects, typically in a form of a vector, to be able to use them in predictive models. Once we have the data in a vector representation we can apply classification and regression models to make predictions. In this workbook, you will go through the various steps needed to load and prepare the data for analysis. \n",
        "\n",
        "Much of the analysis you will be employing involves using tabular data. This type of data is organized in rows and columns and typically stored as .csv files (comma separated value files). In python, you can use a library called `pandas` that allows you to load and manipulate tabular data easily. Part of this problem set aims to introduce you to the `pandas` library and prepare your data for analysis. \n",
        "\n"
      ]
    },
    {
      "cell_type": "markdown",
      "metadata": {
        "id": "K5dmDbkI8d4e"
      },
      "source": [
        "## 2. Downloading data from an external source.\n",
        "To use the data, we first need to download and store them in the local file-system. For this problem set, we will demonstrate how to download data stored in Kaggle datasets. For that, you need to have a `Kaggle account`, install the `Kaggle CLI` (a utility that allows you to programmatically access Kaggle), and set up and load your `Kaggle API key`.\n",
        "\n",
        "**Installing the Kaggle CLI**\n"
      ]
    },
    {
      "cell_type": "code",
      "metadata": {
        "id": "6g4SXDkwELvq"
      },
      "source": [
        "!pip install -q kaggle"
      ],
      "execution_count": 3,
      "outputs": []
    },
    {
      "cell_type": "markdown",
      "metadata": {
        "id": "5wW3re5LVF1V"
      },
      "source": [
        "**Setting up your Kaggle API key**\n",
        "\n",
        "To use the `Kaggle CLI`, you need to have a personal `Kaggle API key`. This key allows you to issue programmatic requests to `Kaggle` to view and download data from any dataset in Kaggle you have access to. To begin, you need to create an account in Kaggle account if you do not already have one.  To do that, visit `https://www.kaggle.com/` and either sign-up or login with your Google account.  \n",
        "\n",
        "To use Kaggle’s public API, you must first authenticate using an API token. From the site header, click on your user profile picture, then on “My Account” from the dropdown menu. This will take you to your account settings at https://www.kaggle.com/account. Scroll down to the section of the page labeled API:\n",
        "\n",
        "To create a new token, click on the `Create New API Token` button. This will download a fresh authentication token onto your machine. Make sure you save the file `kaggle.json` in a secure location in your system. You will upload this file to your Colab later on. \n",
        "\n",
        "**Loading your Kaggle API key in Colab**\n"
      ]
    },
    {
      "cell_type": "code",
      "metadata": {
        "colab": {
          "resources": {
            "http://localhost:8080/nbextensions/google.colab/files.js": {
              "data": "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",
              "ok": true,
              "headers": [
                [
                  "content-type",
                  "application/javascript"
                ]
              ],
              "status": 200,
              "status_text": ""
            }
          },
          "base_uri": "https://localhost:8080/",
          "height": 73
        },
        "id": "MJYNRIf_EmoI",
        "outputId": "495a17cb-e8d2-413e-f34c-8b2849acacac"
      },
      "source": [
        "# Upload the kaggle API key of your account \n",
        "from google.colab import files \n",
        "files.upload()\n",
        "!mkdir ~/.kaggle\n",
        "!cp kaggle.json ~/.kaggle\n",
        "!chmod 600 ~/.kaggle/kaggle.json"
      ],
      "execution_count": 4,
      "outputs": [
        {
          "output_type": "display_data",
          "data": {
            "text/html": [
              "\n",
              "     <input type=\"file\" id=\"files-f9b9dab5-d6c7-4bc5-8ede-26bb5491d5db\" name=\"files[]\" multiple disabled\n",
              "        style=\"border:none\" />\n",
              "     <output id=\"result-f9b9dab5-d6c7-4bc5-8ede-26bb5491d5db\">\n",
              "      Upload widget is only available when the cell has been executed in the\n",
              "      current browser session. Please rerun this cell to enable.\n",
              "      </output>\n",
              "      <script src=\"/nbextensions/google.colab/files.js\"></script> "
            ],
            "text/plain": [
              "<IPython.core.display.HTML object>"
            ]
          },
          "metadata": {
            "tags": []
          }
        },
        {
          "output_type": "stream",
          "text": [
            "Saving kaggle.json to kaggle.json\n"
          ],
          "name": "stdout"
        }
      ]
    },
    {
      "cell_type": "markdown",
      "metadata": {
        "id": "novFV0ftS3rQ"
      },
      "source": [
        "**Using Kaggle CLI to download data**\n",
        "\n",
        "Once you downloaded the `Kaggle CLI` and loaded your Kaggle API key, you should be able to use the `Kaggle` command to list and download data. Here we introduce the basic commands to list and download the data you will be using for this problem set.  In particular, the data files you will be using for this problem set are stored in a Kaggle dataset called `cchristoforou/practice-dataset-for-tutorials`. We will be downloading two files within that dataset called `countires.csv` and `country_total.csv`. The cells below demonstrate how to use the `Kaggle` CLI to download this dataset to the local folder `samples_data/problem_set`. You can find the full documentation on the Kaggle CLI [here](https://github.com/Kaggle/kaggle-api#datasets). \n"
      ]
    },
    {
      "cell_type": "code",
      "metadata": {
        "id": "opDyk-awLy6s",
        "colab": {
          "base_uri": "https://localhost:8080/"
        },
        "outputId": "09cc45e3-1aa5-441a-9f14-6eb7079e0ec5"
      },
      "source": [
        "# View list of data files available in the dataset. \n",
        "# Format : kaggle dataset files <dataset-URI>\n",
        "!kaggle datasets files cchristoforou/practice-dataset-for-tutorials"
      ],
      "execution_count": 5,
      "outputs": [
        {
          "output_type": "stream",
          "text": [
            "Warning: Looks like you're using an outdated API Version, please consider updating (server 1.5.10 / client 1.5.4)\n",
            "name                  size  creationDate         \n",
            "-------------------  -----  -------------------  \n",
            "country_total.csv    533KB  2021-01-23 15:26:18  \n",
            "wineQualityReds.csv   92KB  2021-01-23 15:26:18  \n",
            "wine.data             11KB  2021-01-23 15:26:18  \n",
            "countries.csv          2KB  2021-01-23 15:26:18  \n"
          ],
          "name": "stdout"
        }
      ]
    },
    {
      "cell_type": "code",
      "metadata": {
        "id": "wrs_8fODPB-y"
      },
      "source": [
        "# Download - Specify the parameters.  \n",
        "kaggle_dataset_URI = \"cchristoforou/practice-dataset-for-tutorials\"\n",
        "output_folder = \"sample_data/problem_set01\"\n",
        "kaggle_data_file1 = \"countries.csv\"\n",
        "kaggle_data_file2 = \"country_total.csv\""
      ],
      "execution_count": 6,
      "outputs": []
    },
    {
      "cell_type": "code",
      "metadata": {
        "id": "AJIimVayPVY5",
        "colab": {
          "base_uri": "https://localhost:8080/"
        },
        "outputId": "66cf4e90-7d51-4d99-9325-9e5cbb05600d"
      },
      "source": [
        "# Download the first file from dataset - countries.csv\n",
        "!kaggle datasets download $kaggle_dataset_URI --file $kaggle_data_file1 --path $output_folder \n",
        "# Download the second file from the data - country_total.csv\n",
        "!kaggle datasets download $kaggle_dataset_URI --file $kaggle_data_file2 --path $output_folder "
      ],
      "execution_count": 7,
      "outputs": [
        {
          "output_type": "stream",
          "text": [
            "Downloading countries.csv to sample_data/problem_set01\n",
            "\r  0% 0.00/2.43k [00:00<?, ?B/s]\n",
            "100% 2.43k/2.43k [00:00<00:00, 2.07MB/s]\n",
            "Downloading country_total.csv to sample_data/problem_set01\n",
            "  0% 0.00/533k [00:00<?, ?B/s]\n",
            "100% 533k/533k [00:00<00:00, 36.3MB/s]\n"
          ],
          "name": "stdout"
        }
      ]
    },
    {
      "cell_type": "markdown",
      "metadata": {
        "id": "sUqVGgr2beK-"
      },
      "source": [
        "Now check your colab folder `sample_data/problem_set01` and you should be able to see the two data files."
      ]
    },
    {
      "cell_type": "markdown",
      "metadata": {
        "id": "09bH7maINF1G"
      },
      "source": [
        "# Pandas by example. \n",
        "In the following sections, we cover several use-cases for loading and using our data using pandas.  \n",
        "\n",
        "*Credits*: Much of the materials and challenges that follow have been reproduced from the pandas' workshop notebook found [here](https://github.com/dlab-berkeley/introduction-to-pandas).\n"
      ]
    },
    {
      "cell_type": "markdown",
      "metadata": {
        "id": "H6JK8SbwbzTV"
      },
      "source": [
        "## 3. DataFrame : Importing Data and Summary Statistics. \n",
        "\n",
        "`DataFrame` is a basic pandas object that stores tabular data. The `read_csv()` function in pandas allows us to easily import our data. By default, it assumes the data is comma-delimited. However, you can specify the delimiter used in your data (e.g., tab, semicolon, pipe, etc.). There are several parameters that you can specify. See the documentation [here](http://pandas.pydata.org/pandas-docs/stable/generated/pandas.read_csv.html). read_csv() returns a `DataFrame`. \n",
        "\n",
        "For example, the code below uses the `read_csv` function to load the `country_total.csv` file you just downloaded. Notice that we call `read_csv()` using the `pd` abbreviation from the `import` statement above. Also notice that we need to specify the relative path to the data file. "
      ]
    },
    {
      "cell_type": "code",
      "metadata": {
        "id": "h63GIfYcdgTi"
      },
      "source": [
        "unemployment = pd.read_csv('sample_data/problem_set01/country_total.csv')"
      ],
      "execution_count": 8,
      "outputs": []
    },
    {
      "cell_type": "markdown",
      "metadata": {
        "id": "YxZ5Y5gEi71P"
      },
      "source": [
        "Now you have created a pandas `DataFrame` that stores the data. You can look at the data by using the `.head()` method. By default, this shows the header (column names) and the first five rows. Passing an integer, $n$, to .head() returns that number of rows. To see the last $n$ rows, use .tail()."
      ]
    },
    {
      "cell_type": "code",
      "metadata": {
        "id": "_nB_SdLXd2pw",
        "colab": {
          "base_uri": "https://localhost:8080/",
          "height": 195
        },
        "outputId": "78deec15-e62e-4834-ca7e-293544457a6d"
      },
      "source": [
        "unemployment.head()"
      ],
      "execution_count": 9,
      "outputs": [
        {
          "output_type": "execute_result",
          "data": {
            "text/html": [
              "<div>\n",
              "<style scoped>\n",
              "    .dataframe tbody tr th:only-of-type {\n",
              "        vertical-align: middle;\n",
              "    }\n",
              "\n",
              "    .dataframe tbody tr th {\n",
              "        vertical-align: top;\n",
              "    }\n",
              "\n",
              "    .dataframe thead th {\n",
              "        text-align: right;\n",
              "    }\n",
              "</style>\n",
              "<table border=\"1\" class=\"dataframe\">\n",
              "  <thead>\n",
              "    <tr style=\"text-align: right;\">\n",
              "      <th></th>\n",
              "      <th>country</th>\n",
              "      <th>seasonality</th>\n",
              "      <th>month</th>\n",
              "      <th>unemployment</th>\n",
              "      <th>unemployment_rate</th>\n",
              "    </tr>\n",
              "  </thead>\n",
              "  <tbody>\n",
              "    <tr>\n",
              "      <th>0</th>\n",
              "      <td>at</td>\n",
              "      <td>nsa</td>\n",
              "      <td>1993.01</td>\n",
              "      <td>171000</td>\n",
              "      <td>4.5</td>\n",
              "    </tr>\n",
              "    <tr>\n",
              "      <th>1</th>\n",
              "      <td>at</td>\n",
              "      <td>nsa</td>\n",
              "      <td>1993.02</td>\n",
              "      <td>175000</td>\n",
              "      <td>4.6</td>\n",
              "    </tr>\n",
              "    <tr>\n",
              "      <th>2</th>\n",
              "      <td>at</td>\n",
              "      <td>nsa</td>\n",
              "      <td>1993.03</td>\n",
              "      <td>166000</td>\n",
              "      <td>4.4</td>\n",
              "    </tr>\n",
              "    <tr>\n",
              "      <th>3</th>\n",
              "      <td>at</td>\n",
              "      <td>nsa</td>\n",
              "      <td>1993.04</td>\n",
              "      <td>157000</td>\n",
              "      <td>4.1</td>\n",
              "    </tr>\n",
              "    <tr>\n",
              "      <th>4</th>\n",
              "      <td>at</td>\n",
              "      <td>nsa</td>\n",
              "      <td>1993.05</td>\n",
              "      <td>147000</td>\n",
              "      <td>3.9</td>\n",
              "    </tr>\n",
              "  </tbody>\n",
              "</table>\n",
              "</div>"
            ],
            "text/plain": [
              "  country seasonality    month  unemployment  unemployment_rate\n",
              "0      at         nsa  1993.01        171000                4.5\n",
              "1      at         nsa  1993.02        175000                4.6\n",
              "2      at         nsa  1993.03        166000                4.4\n",
              "3      at         nsa  1993.04        157000                4.1\n",
              "4      at         nsa  1993.05        147000                3.9"
            ]
          },
          "metadata": {
            "tags": []
          },
          "execution_count": 9
        }
      ]
    },
    {
      "cell_type": "markdown",
      "metadata": {
        "id": "LmNT9WeCjIIJ"
      },
      "source": [
        "To find the number of rows, you can use the `len` function, or you can check the `shape` attribute, as follows:\n"
      ]
    },
    {
      "cell_type": "code",
      "metadata": {
        "id": "69k4ir-AjStb",
        "colab": {
          "base_uri": "https://localhost:8080/"
        },
        "outputId": "657b899d-c02f-47d7-e2a1-0509efa42baf"
      },
      "source": [
        "# Shows the shape of the DataFrame\n",
        "(nrows, ncols) = unemployment.shape\n",
        "print(f\"There are {nrows} rows and {ncols} columns.\")"
      ],
      "execution_count": 10,
      "outputs": [
        {
          "output_type": "stream",
          "text": [
            "There are 20796 rows and 5 columns.\n"
          ],
          "name": "stdout"
        }
      ]
    },
    {
      "cell_type": "markdown",
      "metadata": {
        "id": "Zw9PVkJEkbD3"
      },
      "source": [
        "Another useful method that generates various `summary statistics` of the data is the `describe()`. The method returns basic statistics for each column, such as the `count`, `mean`, `standards division (std)`, and various `percentiles`.  For example, the code below shows the summary statistics for the `unemployment` DataFrame. For example, the code below showcases the use of the `describe` method. "
      ]
    },
    {
      "cell_type": "code",
      "metadata": {
        "id": "2clhvHKGlQIL",
        "colab": {
          "base_uri": "https://localhost:8080/",
          "height": 284
        },
        "outputId": "bb85ee98-8350-4636-dd49-a51cd70d8535"
      },
      "source": [
        "unemployment.describe()"
      ],
      "execution_count": 11,
      "outputs": [
        {
          "output_type": "execute_result",
          "data": {
            "text/html": [
              "<div>\n",
              "<style scoped>\n",
              "    .dataframe tbody tr th:only-of-type {\n",
              "        vertical-align: middle;\n",
              "    }\n",
              "\n",
              "    .dataframe tbody tr th {\n",
              "        vertical-align: top;\n",
              "    }\n",
              "\n",
              "    .dataframe thead th {\n",
              "        text-align: right;\n",
              "    }\n",
              "</style>\n",
              "<table border=\"1\" class=\"dataframe\">\n",
              "  <thead>\n",
              "    <tr style=\"text-align: right;\">\n",
              "      <th></th>\n",
              "      <th>month</th>\n",
              "      <th>unemployment</th>\n",
              "      <th>unemployment_rate</th>\n",
              "    </tr>\n",
              "  </thead>\n",
              "  <tbody>\n",
              "    <tr>\n",
              "      <th>count</th>\n",
              "      <td>20796.000000</td>\n",
              "      <td>2.079600e+04</td>\n",
              "      <td>19851.000000</td>\n",
              "    </tr>\n",
              "    <tr>\n",
              "      <th>mean</th>\n",
              "      <td>1999.401290</td>\n",
              "      <td>7.900818e+05</td>\n",
              "      <td>8.179764</td>\n",
              "    </tr>\n",
              "    <tr>\n",
              "      <th>std</th>\n",
              "      <td>7.483751</td>\n",
              "      <td>1.015280e+06</td>\n",
              "      <td>3.922533</td>\n",
              "    </tr>\n",
              "    <tr>\n",
              "      <th>min</th>\n",
              "      <td>1983.010000</td>\n",
              "      <td>2.000000e+03</td>\n",
              "      <td>1.100000</td>\n",
              "    </tr>\n",
              "    <tr>\n",
              "      <th>25%</th>\n",
              "      <td>1994.090000</td>\n",
              "      <td>1.400000e+05</td>\n",
              "      <td>5.200000</td>\n",
              "    </tr>\n",
              "    <tr>\n",
              "      <th>50%</th>\n",
              "      <td>2001.010000</td>\n",
              "      <td>3.100000e+05</td>\n",
              "      <td>7.600000</td>\n",
              "    </tr>\n",
              "    <tr>\n",
              "      <th>75%</th>\n",
              "      <td>2006.010000</td>\n",
              "      <td>1.262250e+06</td>\n",
              "      <td>10.000000</td>\n",
              "    </tr>\n",
              "    <tr>\n",
              "      <th>max</th>\n",
              "      <td>2010.120000</td>\n",
              "      <td>4.773000e+06</td>\n",
              "      <td>20.900000</td>\n",
              "    </tr>\n",
              "  </tbody>\n",
              "</table>\n",
              "</div>"
            ],
            "text/plain": [
              "              month  unemployment  unemployment_rate\n",
              "count  20796.000000  2.079600e+04       19851.000000\n",
              "mean    1999.401290  7.900818e+05           8.179764\n",
              "std        7.483751  1.015280e+06           3.922533\n",
              "min     1983.010000  2.000000e+03           1.100000\n",
              "25%     1994.090000  1.400000e+05           5.200000\n",
              "50%     2001.010000  3.100000e+05           7.600000\n",
              "75%     2006.010000  1.262250e+06          10.000000\n",
              "max     2010.120000  4.773000e+06          20.900000"
            ]
          },
          "metadata": {
            "tags": []
          },
          "execution_count": 11
        }
      ]
    },
    {
      "cell_type": "markdown",
      "metadata": {
        "id": "ZQVFgCHvouar"
      },
      "source": [
        "Depending on what type of data is included in the DataFrame, the describe() method returns different values.  If the DataFrame includes both numeric and object (e.g., strings) dtypes, it will default to summarizing the numeric data only. If `.describe()` is called on strings, for example, it will return the count, number of unique values, and the most frequent value along with its count. For example, we can call the `.describe()` only the the `country` and `seasonality` fields (which are strings) to get the count, number of unique entries, and freq of top entry. \n"
      ]
    },
    {
      "cell_type": "code",
      "metadata": {
        "id": "CT420uWioVUR",
        "colab": {
          "base_uri": "https://localhost:8080/",
          "height": 166
        },
        "outputId": "97e33c97-af41-41fb-eed4-298d54a34ad4"
      },
      "source": [
        "unemployment[['country','seasonality']].describe()"
      ],
      "execution_count": 12,
      "outputs": [
        {
          "output_type": "execute_result",
          "data": {
            "text/html": [
              "<div>\n",
              "<style scoped>\n",
              "    .dataframe tbody tr th:only-of-type {\n",
              "        vertical-align: middle;\n",
              "    }\n",
              "\n",
              "    .dataframe tbody tr th {\n",
              "        vertical-align: top;\n",
              "    }\n",
              "\n",
              "    .dataframe thead th {\n",
              "        text-align: right;\n",
              "    }\n",
              "</style>\n",
              "<table border=\"1\" class=\"dataframe\">\n",
              "  <thead>\n",
              "    <tr style=\"text-align: right;\">\n",
              "      <th></th>\n",
              "      <th>country</th>\n",
              "      <th>seasonality</th>\n",
              "    </tr>\n",
              "  </thead>\n",
              "  <tbody>\n",
              "    <tr>\n",
              "      <th>count</th>\n",
              "      <td>20796</td>\n",
              "      <td>20796</td>\n",
              "    </tr>\n",
              "    <tr>\n",
              "      <th>unique</th>\n",
              "      <td>30</td>\n",
              "      <td>3</td>\n",
              "    </tr>\n",
              "    <tr>\n",
              "      <th>top</th>\n",
              "      <td>pt</td>\n",
              "      <td>sa</td>\n",
              "    </tr>\n",
              "    <tr>\n",
              "      <th>freq</th>\n",
              "      <td>1008</td>\n",
              "      <td>7020</td>\n",
              "    </tr>\n",
              "  </tbody>\n",
              "</table>\n",
              "</div>"
            ],
            "text/plain": [
              "       country seasonality\n",
              "count    20796       20796\n",
              "unique      30           3\n",
              "top         pt          sa\n",
              "freq      1008        7020"
            ]
          },
          "metadata": {
            "tags": []
          },
          "execution_count": 12
        }
      ]
    },
    {
      "cell_type": "markdown",
      "metadata": {
        "id": "aNE9Y9vLpeiw"
      },
      "source": [
        "### Challenge 1: Import data and find key statistics. \n",
        "Use the methods discussed above to load and inspect the second data file we downloaded, namely the 'countires.csv, answer the following questions about countries:\n",
        "\n",
        "- what columns does it contain?\n",
        "- what does each row stand for?\n",
        "- how many rows and columns does it contain?\n",
        "- are there any missing values in the latitude or longitude columns?\n",
        "\n",
        "Hint: the head and describe functions, as well as the shape attribute, will be helpful here.\n"
      ]
    },
    {
      "cell_type": "code",
      "metadata": {
        "id": "zv6ENM8hqPdZ"
      },
      "source": [
        "# Use this cell to load the data and find the answers to the questions above. \n",
        "df = pd.read_csv('sample_data/problem_set01/countries.csv')"
      ],
      "execution_count": 13,
      "outputs": []
    },
    {
      "cell_type": "code",
      "metadata": {
        "colab": {
          "base_uri": "https://localhost:8080/",
          "height": 935
        },
        "id": "Fa-lbSkiTdvN",
        "outputId": "087748d7-5be9-46f5-b7ce-8c24d5ae8a6b"
      },
      "source": [
        "df.isnull()"
      ],
      "execution_count": 14,
      "outputs": [
        {
          "output_type": "execute_result",
          "data": {
            "text/html": [
              "<div>\n",
              "<style scoped>\n",
              "    .dataframe tbody tr th:only-of-type {\n",
              "        vertical-align: middle;\n",
              "    }\n",
              "\n",
              "    .dataframe tbody tr th {\n",
              "        vertical-align: top;\n",
              "    }\n",
              "\n",
              "    .dataframe thead th {\n",
              "        text-align: right;\n",
              "    }\n",
              "</style>\n",
              "<table border=\"1\" class=\"dataframe\">\n",
              "  <thead>\n",
              "    <tr style=\"text-align: right;\">\n",
              "      <th></th>\n",
              "      <th>country</th>\n",
              "      <th>google_country_code</th>\n",
              "      <th>country_group</th>\n",
              "      <th>name_en</th>\n",
              "      <th>name_fr</th>\n",
              "      <th>name_de</th>\n",
              "      <th>latitude</th>\n",
              "      <th>longitude</th>\n",
              "    </tr>\n",
              "  </thead>\n",
              "  <tbody>\n",
              "    <tr>\n",
              "      <th>0</th>\n",
              "      <td>False</td>\n",
              "      <td>False</td>\n",
              "      <td>False</td>\n",
              "      <td>False</td>\n",
              "      <td>False</td>\n",
              "      <td>False</td>\n",
              "      <td>False</td>\n",
              "      <td>False</td>\n",
              "    </tr>\n",
              "    <tr>\n",
              "      <th>1</th>\n",
              "      <td>False</td>\n",
              "      <td>False</td>\n",
              "      <td>False</td>\n",
              "      <td>False</td>\n",
              "      <td>False</td>\n",
              "      <td>False</td>\n",
              "      <td>False</td>\n",
              "      <td>False</td>\n",
              "    </tr>\n",
              "    <tr>\n",
              "      <th>2</th>\n",
              "      <td>False</td>\n",
              "      <td>False</td>\n",
              "      <td>False</td>\n",
              "      <td>False</td>\n",
              "      <td>False</td>\n",
              "      <td>False</td>\n",
              "      <td>False</td>\n",
              "      <td>False</td>\n",
              "    </tr>\n",
              "    <tr>\n",
              "      <th>3</th>\n",
              "      <td>False</td>\n",
              "      <td>False</td>\n",
              "      <td>False</td>\n",
              "      <td>False</td>\n",
              "      <td>False</td>\n",
              "      <td>False</td>\n",
              "      <td>False</td>\n",
              "      <td>False</td>\n",
              "    </tr>\n",
              "    <tr>\n",
              "      <th>4</th>\n",
              "      <td>False</td>\n",
              "      <td>False</td>\n",
              "      <td>False</td>\n",
              "      <td>False</td>\n",
              "      <td>False</td>\n",
              "      <td>False</td>\n",
              "      <td>False</td>\n",
              "      <td>False</td>\n",
              "    </tr>\n",
              "    <tr>\n",
              "      <th>5</th>\n",
              "      <td>False</td>\n",
              "      <td>False</td>\n",
              "      <td>False</td>\n",
              "      <td>False</td>\n",
              "      <td>False</td>\n",
              "      <td>False</td>\n",
              "      <td>False</td>\n",
              "      <td>False</td>\n",
              "    </tr>\n",
              "    <tr>\n",
              "      <th>6</th>\n",
              "      <td>False</td>\n",
              "      <td>False</td>\n",
              "      <td>False</td>\n",
              "      <td>False</td>\n",
              "      <td>False</td>\n",
              "      <td>False</td>\n",
              "      <td>False</td>\n",
              "      <td>False</td>\n",
              "    </tr>\n",
              "    <tr>\n",
              "      <th>7</th>\n",
              "      <td>False</td>\n",
              "      <td>False</td>\n",
              "      <td>False</td>\n",
              "      <td>False</td>\n",
              "      <td>False</td>\n",
              "      <td>False</td>\n",
              "      <td>False</td>\n",
              "      <td>False</td>\n",
              "    </tr>\n",
              "    <tr>\n",
              "      <th>8</th>\n",
              "      <td>False</td>\n",
              "      <td>False</td>\n",
              "      <td>False</td>\n",
              "      <td>False</td>\n",
              "      <td>False</td>\n",
              "      <td>False</td>\n",
              "      <td>False</td>\n",
              "      <td>False</td>\n",
              "    </tr>\n",
              "    <tr>\n",
              "      <th>9</th>\n",
              "      <td>False</td>\n",
              "      <td>False</td>\n",
              "      <td>False</td>\n",
              "      <td>False</td>\n",
              "      <td>False</td>\n",
              "      <td>False</td>\n",
              "      <td>False</td>\n",
              "      <td>False</td>\n",
              "    </tr>\n",
              "    <tr>\n",
              "      <th>10</th>\n",
              "      <td>False</td>\n",
              "      <td>False</td>\n",
              "      <td>False</td>\n",
              "      <td>False</td>\n",
              "      <td>False</td>\n",
              "      <td>False</td>\n",
              "      <td>False</td>\n",
              "      <td>False</td>\n",
              "    </tr>\n",
              "    <tr>\n",
              "      <th>11</th>\n",
              "      <td>False</td>\n",
              "      <td>False</td>\n",
              "      <td>False</td>\n",
              "      <td>False</td>\n",
              "      <td>False</td>\n",
              "      <td>False</td>\n",
              "      <td>False</td>\n",
              "      <td>False</td>\n",
              "    </tr>\n",
              "    <tr>\n",
              "      <th>12</th>\n",
              "      <td>False</td>\n",
              "      <td>False</td>\n",
              "      <td>False</td>\n",
              "      <td>False</td>\n",
              "      <td>False</td>\n",
              "      <td>False</td>\n",
              "      <td>False</td>\n",
              "      <td>False</td>\n",
              "    </tr>\n",
              "    <tr>\n",
              "      <th>13</th>\n",
              "      <td>False</td>\n",
              "      <td>False</td>\n",
              "      <td>False</td>\n",
              "      <td>False</td>\n",
              "      <td>False</td>\n",
              "      <td>False</td>\n",
              "      <td>False</td>\n",
              "      <td>False</td>\n",
              "    </tr>\n",
              "    <tr>\n",
              "      <th>14</th>\n",
              "      <td>False</td>\n",
              "      <td>False</td>\n",
              "      <td>False</td>\n",
              "      <td>False</td>\n",
              "      <td>False</td>\n",
              "      <td>False</td>\n",
              "      <td>False</td>\n",
              "      <td>False</td>\n",
              "    </tr>\n",
              "    <tr>\n",
              "      <th>15</th>\n",
              "      <td>False</td>\n",
              "      <td>False</td>\n",
              "      <td>False</td>\n",
              "      <td>False</td>\n",
              "      <td>False</td>\n",
              "      <td>False</td>\n",
              "      <td>False</td>\n",
              "      <td>False</td>\n",
              "    </tr>\n",
              "    <tr>\n",
              "      <th>16</th>\n",
              "      <td>False</td>\n",
              "      <td>False</td>\n",
              "      <td>False</td>\n",
              "      <td>False</td>\n",
              "      <td>False</td>\n",
              "      <td>False</td>\n",
              "      <td>False</td>\n",
              "      <td>False</td>\n",
              "    </tr>\n",
              "    <tr>\n",
              "      <th>17</th>\n",
              "      <td>False</td>\n",
              "      <td>False</td>\n",
              "      <td>False</td>\n",
              "      <td>False</td>\n",
              "      <td>False</td>\n",
              "      <td>False</td>\n",
              "      <td>False</td>\n",
              "      <td>False</td>\n",
              "    </tr>\n",
              "    <tr>\n",
              "      <th>18</th>\n",
              "      <td>False</td>\n",
              "      <td>False</td>\n",
              "      <td>False</td>\n",
              "      <td>False</td>\n",
              "      <td>False</td>\n",
              "      <td>False</td>\n",
              "      <td>False</td>\n",
              "      <td>False</td>\n",
              "    </tr>\n",
              "    <tr>\n",
              "      <th>19</th>\n",
              "      <td>False</td>\n",
              "      <td>False</td>\n",
              "      <td>False</td>\n",
              "      <td>False</td>\n",
              "      <td>False</td>\n",
              "      <td>False</td>\n",
              "      <td>False</td>\n",
              "      <td>False</td>\n",
              "    </tr>\n",
              "    <tr>\n",
              "      <th>20</th>\n",
              "      <td>False</td>\n",
              "      <td>False</td>\n",
              "      <td>False</td>\n",
              "      <td>False</td>\n",
              "      <td>False</td>\n",
              "      <td>False</td>\n",
              "      <td>False</td>\n",
              "      <td>False</td>\n",
              "    </tr>\n",
              "    <tr>\n",
              "      <th>21</th>\n",
              "      <td>False</td>\n",
              "      <td>False</td>\n",
              "      <td>False</td>\n",
              "      <td>False</td>\n",
              "      <td>False</td>\n",
              "      <td>False</td>\n",
              "      <td>False</td>\n",
              "      <td>False</td>\n",
              "    </tr>\n",
              "    <tr>\n",
              "      <th>22</th>\n",
              "      <td>False</td>\n",
              "      <td>False</td>\n",
              "      <td>False</td>\n",
              "      <td>False</td>\n",
              "      <td>False</td>\n",
              "      <td>False</td>\n",
              "      <td>False</td>\n",
              "      <td>False</td>\n",
              "    </tr>\n",
              "    <tr>\n",
              "      <th>23</th>\n",
              "      <td>False</td>\n",
              "      <td>False</td>\n",
              "      <td>False</td>\n",
              "      <td>False</td>\n",
              "      <td>False</td>\n",
              "      <td>False</td>\n",
              "      <td>False</td>\n",
              "      <td>False</td>\n",
              "    </tr>\n",
              "    <tr>\n",
              "      <th>24</th>\n",
              "      <td>False</td>\n",
              "      <td>False</td>\n",
              "      <td>False</td>\n",
              "      <td>False</td>\n",
              "      <td>False</td>\n",
              "      <td>False</td>\n",
              "      <td>False</td>\n",
              "      <td>False</td>\n",
              "    </tr>\n",
              "    <tr>\n",
              "      <th>25</th>\n",
              "      <td>False</td>\n",
              "      <td>False</td>\n",
              "      <td>False</td>\n",
              "      <td>False</td>\n",
              "      <td>False</td>\n",
              "      <td>False</td>\n",
              "      <td>False</td>\n",
              "      <td>False</td>\n",
              "    </tr>\n",
              "    <tr>\n",
              "      <th>26</th>\n",
              "      <td>False</td>\n",
              "      <td>False</td>\n",
              "      <td>False</td>\n",
              "      <td>False</td>\n",
              "      <td>False</td>\n",
              "      <td>False</td>\n",
              "      <td>False</td>\n",
              "      <td>False</td>\n",
              "    </tr>\n",
              "    <tr>\n",
              "      <th>27</th>\n",
              "      <td>False</td>\n",
              "      <td>False</td>\n",
              "      <td>False</td>\n",
              "      <td>False</td>\n",
              "      <td>False</td>\n",
              "      <td>False</td>\n",
              "      <td>False</td>\n",
              "      <td>False</td>\n",
              "    </tr>\n",
              "    <tr>\n",
              "      <th>28</th>\n",
              "      <td>False</td>\n",
              "      <td>False</td>\n",
              "      <td>False</td>\n",
              "      <td>False</td>\n",
              "      <td>False</td>\n",
              "      <td>False</td>\n",
              "      <td>False</td>\n",
              "      <td>False</td>\n",
              "    </tr>\n",
              "    <tr>\n",
              "      <th>29</th>\n",
              "      <td>False</td>\n",
              "      <td>False</td>\n",
              "      <td>False</td>\n",
              "      <td>False</td>\n",
              "      <td>False</td>\n",
              "      <td>False</td>\n",
              "      <td>False</td>\n",
              "      <td>False</td>\n",
              "    </tr>\n",
              "  </tbody>\n",
              "</table>\n",
              "</div>"
            ],
            "text/plain": [
              "    country  google_country_code  country_group  ...  name_de  latitude  longitude\n",
              "0     False                False          False  ...    False     False      False\n",
              "1     False                False          False  ...    False     False      False\n",
              "2     False                False          False  ...    False     False      False\n",
              "3     False                False          False  ...    False     False      False\n",
              "4     False                False          False  ...    False     False      False\n",
              "5     False                False          False  ...    False     False      False\n",
              "6     False                False          False  ...    False     False      False\n",
              "7     False                False          False  ...    False     False      False\n",
              "8     False                False          False  ...    False     False      False\n",
              "9     False                False          False  ...    False     False      False\n",
              "10    False                False          False  ...    False     False      False\n",
              "11    False                False          False  ...    False     False      False\n",
              "12    False                False          False  ...    False     False      False\n",
              "13    False                False          False  ...    False     False      False\n",
              "14    False                False          False  ...    False     False      False\n",
              "15    False                False          False  ...    False     False      False\n",
              "16    False                False          False  ...    False     False      False\n",
              "17    False                False          False  ...    False     False      False\n",
              "18    False                False          False  ...    False     False      False\n",
              "19    False                False          False  ...    False     False      False\n",
              "20    False                False          False  ...    False     False      False\n",
              "21    False                False          False  ...    False     False      False\n",
              "22    False                False          False  ...    False     False      False\n",
              "23    False                False          False  ...    False     False      False\n",
              "24    False                False          False  ...    False     False      False\n",
              "25    False                False          False  ...    False     False      False\n",
              "26    False                False          False  ...    False     False      False\n",
              "27    False                False          False  ...    False     False      False\n",
              "28    False                False          False  ...    False     False      False\n",
              "29    False                False          False  ...    False     False      False\n",
              "\n",
              "[30 rows x 8 columns]"
            ]
          },
          "metadata": {
            "tags": []
          },
          "execution_count": 14
        }
      ]
    },
    {
      "cell_type": "code",
      "metadata": {
        "colab": {
          "base_uri": "https://localhost:8080/"
        },
        "id": "pVt7ugbhSIbN",
        "outputId": "16485280-fbbf-4721-e099-f1d004e8a8b7"
      },
      "source": [
        "(nrows, ncols) = df.shape\r\n",
        "print(f\" there are {nrows} rows and {ncols} columns. \")"
      ],
      "execution_count": 15,
      "outputs": [
        {
          "output_type": "stream",
          "text": [
            " there are 30 rows and 8 columns. \n"
          ],
          "name": "stdout"
        }
      ]
    },
    {
      "cell_type": "code",
      "metadata": {
        "colab": {
          "base_uri": "https://localhost:8080/",
          "height": 195
        },
        "id": "nNQtY4UZRGKY",
        "outputId": "cb6ea06c-32be-46e4-d3ef-6d215a95c1ee"
      },
      "source": [
        "df.head()"
      ],
      "execution_count": 16,
      "outputs": [
        {
          "output_type": "execute_result",
          "data": {
            "text/html": [
              "<div>\n",
              "<style scoped>\n",
              "    .dataframe tbody tr th:only-of-type {\n",
              "        vertical-align: middle;\n",
              "    }\n",
              "\n",
              "    .dataframe tbody tr th {\n",
              "        vertical-align: top;\n",
              "    }\n",
              "\n",
              "    .dataframe thead th {\n",
              "        text-align: right;\n",
              "    }\n",
              "</style>\n",
              "<table border=\"1\" class=\"dataframe\">\n",
              "  <thead>\n",
              "    <tr style=\"text-align: right;\">\n",
              "      <th></th>\n",
              "      <th>country</th>\n",
              "      <th>google_country_code</th>\n",
              "      <th>country_group</th>\n",
              "      <th>name_en</th>\n",
              "      <th>name_fr</th>\n",
              "      <th>name_de</th>\n",
              "      <th>latitude</th>\n",
              "      <th>longitude</th>\n",
              "    </tr>\n",
              "  </thead>\n",
              "  <tbody>\n",
              "    <tr>\n",
              "      <th>0</th>\n",
              "      <td>at</td>\n",
              "      <td>AT</td>\n",
              "      <td>eu</td>\n",
              "      <td>Austria</td>\n",
              "      <td>Autriche</td>\n",
              "      <td>Österreich</td>\n",
              "      <td>47.696554</td>\n",
              "      <td>13.345980</td>\n",
              "    </tr>\n",
              "    <tr>\n",
              "      <th>1</th>\n",
              "      <td>be</td>\n",
              "      <td>BE</td>\n",
              "      <td>eu</td>\n",
              "      <td>Belgium</td>\n",
              "      <td>Belgique</td>\n",
              "      <td>Belgien</td>\n",
              "      <td>50.501045</td>\n",
              "      <td>4.476674</td>\n",
              "    </tr>\n",
              "    <tr>\n",
              "      <th>2</th>\n",
              "      <td>bg</td>\n",
              "      <td>BG</td>\n",
              "      <td>eu</td>\n",
              "      <td>Bulgaria</td>\n",
              "      <td>Bulgarie</td>\n",
              "      <td>Bulgarien</td>\n",
              "      <td>42.725674</td>\n",
              "      <td>25.482322</td>\n",
              "    </tr>\n",
              "    <tr>\n",
              "      <th>3</th>\n",
              "      <td>hr</td>\n",
              "      <td>HR</td>\n",
              "      <td>non-eu</td>\n",
              "      <td>Croatia</td>\n",
              "      <td>Croatie</td>\n",
              "      <td>Kroatien</td>\n",
              "      <td>44.746643</td>\n",
              "      <td>15.340844</td>\n",
              "    </tr>\n",
              "    <tr>\n",
              "      <th>4</th>\n",
              "      <td>cy</td>\n",
              "      <td>CY</td>\n",
              "      <td>eu</td>\n",
              "      <td>Cyprus</td>\n",
              "      <td>Chypre</td>\n",
              "      <td>Zypern</td>\n",
              "      <td>35.129141</td>\n",
              "      <td>33.428682</td>\n",
              "    </tr>\n",
              "  </tbody>\n",
              "</table>\n",
              "</div>"
            ],
            "text/plain": [
              "  country google_country_code country_group  ...     name_de   latitude  longitude\n",
              "0      at                  AT            eu  ...  Österreich  47.696554  13.345980\n",
              "1      be                  BE            eu  ...     Belgien  50.501045   4.476674\n",
              "2      bg                  BG            eu  ...   Bulgarien  42.725674  25.482322\n",
              "3      hr                  HR        non-eu  ...    Kroatien  44.746643  15.340844\n",
              "4      cy                  CY            eu  ...      Zypern  35.129141  33.428682\n",
              "\n",
              "[5 rows x 8 columns]"
            ]
          },
          "metadata": {
            "tags": []
          },
          "execution_count": 16
        }
      ]
    },
    {
      "cell_type": "code",
      "metadata": {
        "id": "Ru5JweELqV1D"
      },
      "source": [
        "# Type you answer to the Challenge questions here.\n",
        "#1. it contains \"country\", \"google_country_code\", \"country_group\", \"name_en\", \"name_fr\", \"name_de\", \"latitude\" and \"longitude\"\n",
        "#2 each row stand for each country\n",
        "#3  there are 30 rows and 8 columns. \n",
        "#4 there are no missing values in \"latitude\" and \"longitude\""
      ],
      "execution_count": null,
      "outputs": []
    },
    {
      "cell_type": "markdown",
      "metadata": {
        "id": "kfmkK0qy8SiZ"
      },
      "source": [
        "## 4. DataFrame: Rename, Index, and Slide \n",
        "\n",
        "Going back to the unemployment data set, you may have noticed that the month column also includes the year. Let's go ahead and rename it."
      ]
    },
    {
      "cell_type": "code",
      "metadata": {
        "id": "HjBE5n-IxGtu"
      },
      "source": [
        "unemployment.rename(columns={'month' : 'year_month'}, inplace=True)"
      ],
      "execution_count": 17,
      "outputs": []
    },
    {
      "cell_type": "markdown",
      "metadata": {
        "id": "MnAvO35txcfS"
      },
      "source": [
        "The `.rename()` method allows you to modify `index labels` and/or `column names`. As you can see, we passed a `dict` to the columns parameter, with the original name as the key and the new name as the value. Importantly, we also set the `inplace` parameter to `True`, which modifies the actual `DataFrame`, not a copy of it.\n",
        "\n",
        "It might also make sense to separate the data in `year_month` into two separate columns. To do this, you'll need to know how to select a single column. We can either use bracket ([]) or dot notation (referred to as attribute access). \n"
      ]
    },
    {
      "cell_type": "code",
      "metadata": {
        "id": "wGL0o3aOx-p4",
        "colab": {
          "base_uri": "https://localhost:8080/"
        },
        "outputId": "9566d5bf-9df0-4d47-9ece-a477107a9997"
      },
      "source": [
        "# select a single column - using the bracket notation \n",
        "unemployment['year_month'] "
      ],
      "execution_count": 18,
      "outputs": [
        {
          "output_type": "execute_result",
          "data": {
            "text/plain": [
              "0        1993.01\n",
              "1        1993.02\n",
              "2        1993.03\n",
              "3        1993.04\n",
              "4        1993.05\n",
              "          ...   \n",
              "20791    2010.06\n",
              "20792    2010.07\n",
              "20793    2010.08\n",
              "20794    2010.09\n",
              "20795    2010.10\n",
              "Name: year_month, Length: 20796, dtype: float64"
            ]
          },
          "metadata": {
            "tags": []
          },
          "execution_count": 18
        }
      ]
    },
    {
      "cell_type": "code",
      "metadata": {
        "id": "qfrOTwFVzRfv",
        "colab": {
          "base_uri": "https://localhost:8080/"
        },
        "outputId": "64c11a67-9311-475c-b0b1-1e328860ee66"
      },
      "source": [
        "# select a single column - using the dot notation \n",
        "unemployment.year_month"
      ],
      "execution_count": 19,
      "outputs": [
        {
          "output_type": "execute_result",
          "data": {
            "text/plain": [
              "0        1993.01\n",
              "1        1993.02\n",
              "2        1993.03\n",
              "3        1993.04\n",
              "4        1993.05\n",
              "          ...   \n",
              "20791    2010.06\n",
              "20792    2010.07\n",
              "20793    2010.08\n",
              "20794    2010.09\n",
              "20795    2010.10\n",
              "Name: year_month, Length: 20796, dtype: float64"
            ]
          },
          "metadata": {
            "tags": []
          },
          "execution_count": 19
        }
      ]
    },
    {
      "cell_type": "code",
      "metadata": {
        "id": "WZiCClNDAvX5",
        "colab": {
          "base_uri": "https://localhost:8080/",
          "height": 402
        },
        "outputId": "045a74b6-6dc1-4676-aad1-f5afd747ff5a"
      },
      "source": [
        "unemployment"
      ],
      "execution_count": 20,
      "outputs": [
        {
          "output_type": "execute_result",
          "data": {
            "text/html": [
              "<div>\n",
              "<style scoped>\n",
              "    .dataframe tbody tr th:only-of-type {\n",
              "        vertical-align: middle;\n",
              "    }\n",
              "\n",
              "    .dataframe tbody tr th {\n",
              "        vertical-align: top;\n",
              "    }\n",
              "\n",
              "    .dataframe thead th {\n",
              "        text-align: right;\n",
              "    }\n",
              "</style>\n",
              "<table border=\"1\" class=\"dataframe\">\n",
              "  <thead>\n",
              "    <tr style=\"text-align: right;\">\n",
              "      <th></th>\n",
              "      <th>country</th>\n",
              "      <th>seasonality</th>\n",
              "      <th>year_month</th>\n",
              "      <th>unemployment</th>\n",
              "      <th>unemployment_rate</th>\n",
              "    </tr>\n",
              "  </thead>\n",
              "  <tbody>\n",
              "    <tr>\n",
              "      <th>0</th>\n",
              "      <td>at</td>\n",
              "      <td>nsa</td>\n",
              "      <td>1993.01</td>\n",
              "      <td>171000</td>\n",
              "      <td>4.5</td>\n",
              "    </tr>\n",
              "    <tr>\n",
              "      <th>1</th>\n",
              "      <td>at</td>\n",
              "      <td>nsa</td>\n",
              "      <td>1993.02</td>\n",
              "      <td>175000</td>\n",
              "      <td>4.6</td>\n",
              "    </tr>\n",
              "    <tr>\n",
              "      <th>2</th>\n",
              "      <td>at</td>\n",
              "      <td>nsa</td>\n",
              "      <td>1993.03</td>\n",
              "      <td>166000</td>\n",
              "      <td>4.4</td>\n",
              "    </tr>\n",
              "    <tr>\n",
              "      <th>3</th>\n",
              "      <td>at</td>\n",
              "      <td>nsa</td>\n",
              "      <td>1993.04</td>\n",
              "      <td>157000</td>\n",
              "      <td>4.1</td>\n",
              "    </tr>\n",
              "    <tr>\n",
              "      <th>4</th>\n",
              "      <td>at</td>\n",
              "      <td>nsa</td>\n",
              "      <td>1993.05</td>\n",
              "      <td>147000</td>\n",
              "      <td>3.9</td>\n",
              "    </tr>\n",
              "    <tr>\n",
              "      <th>...</th>\n",
              "      <td>...</td>\n",
              "      <td>...</td>\n",
              "      <td>...</td>\n",
              "      <td>...</td>\n",
              "      <td>...</td>\n",
              "    </tr>\n",
              "    <tr>\n",
              "      <th>20791</th>\n",
              "      <td>uk</td>\n",
              "      <td>trend</td>\n",
              "      <td>2010.06</td>\n",
              "      <td>2429000</td>\n",
              "      <td>7.7</td>\n",
              "    </tr>\n",
              "    <tr>\n",
              "      <th>20792</th>\n",
              "      <td>uk</td>\n",
              "      <td>trend</td>\n",
              "      <td>2010.07</td>\n",
              "      <td>2422000</td>\n",
              "      <td>7.7</td>\n",
              "    </tr>\n",
              "    <tr>\n",
              "      <th>20793</th>\n",
              "      <td>uk</td>\n",
              "      <td>trend</td>\n",
              "      <td>2010.08</td>\n",
              "      <td>2429000</td>\n",
              "      <td>7.7</td>\n",
              "    </tr>\n",
              "    <tr>\n",
              "      <th>20794</th>\n",
              "      <td>uk</td>\n",
              "      <td>trend</td>\n",
              "      <td>2010.09</td>\n",
              "      <td>2447000</td>\n",
              "      <td>7.8</td>\n",
              "    </tr>\n",
              "    <tr>\n",
              "      <th>20795</th>\n",
              "      <td>uk</td>\n",
              "      <td>trend</td>\n",
              "      <td>2010.10</td>\n",
              "      <td>2455000</td>\n",
              "      <td>7.8</td>\n",
              "    </tr>\n",
              "  </tbody>\n",
              "</table>\n",
              "<p>20796 rows × 5 columns</p>\n",
              "</div>"
            ],
            "text/plain": [
              "      country seasonality  year_month  unemployment  unemployment_rate\n",
              "0          at         nsa     1993.01        171000                4.5\n",
              "1          at         nsa     1993.02        175000                4.6\n",
              "2          at         nsa     1993.03        166000                4.4\n",
              "3          at         nsa     1993.04        157000                4.1\n",
              "4          at         nsa     1993.05        147000                3.9\n",
              "...       ...         ...         ...           ...                ...\n",
              "20791      uk       trend     2010.06       2429000                7.7\n",
              "20792      uk       trend     2010.07       2422000                7.7\n",
              "20793      uk       trend     2010.08       2429000                7.7\n",
              "20794      uk       trend     2010.09       2447000                7.8\n",
              "20795      uk       trend     2010.10       2455000                7.8\n",
              "\n",
              "[20796 rows x 5 columns]"
            ]
          },
          "metadata": {
            "tags": []
          },
          "execution_count": 20
        }
      ]
    },
    {
      "cell_type": "markdown",
      "metadata": {
        "id": "R2GQrmleziyS"
      },
      "source": [
        "It is preferrable to use the bracket notation as a column name might inadvertently have the same name as a `DataFrame` (or `Series`) method. In addition, only bracket notation can be used to create a new column. If you try and use attribute access to create a new column, you'll create a new attribute, not a new column.\n",
        "\n",
        "When selecting a single column, we have a pandas `Series` object, which is a single vector of data (e.g., a `NumPy` array) with \"an associated array of data labels, called its index.\" A `DataFrame` also has an index. In our example, the indices are an array of sequential integers, which is the default. You can find them in the `left-most` position, without a column label.\n",
        "\n",
        "Indices need not be a sequence of integers. They can, for example, be dates or strings. Note that indices do not need to be unique.\n",
        "\n",
        "Indices, like `column` names, can be used to select data. Indices can be used to select particular rows. In fact, you can do something like `.head()` with slicing using the `[]` operator."
      ]
    },
    {
      "cell_type": "code",
      "metadata": {
        "id": "UR8P91gV0HX-",
        "colab": {
          "base_uri": "https://localhost:8080/",
          "height": 195
        },
        "outputId": "847c0419-e189-4018-9316-5ebb794d7e94"
      },
      "source": [
        "# Slicing row, using the [] operator : return top 5 rows \n",
        "unemployment[:5] "
      ],
      "execution_count": 21,
      "outputs": [
        {
          "output_type": "execute_result",
          "data": {
            "text/html": [
              "<div>\n",
              "<style scoped>\n",
              "    .dataframe tbody tr th:only-of-type {\n",
              "        vertical-align: middle;\n",
              "    }\n",
              "\n",
              "    .dataframe tbody tr th {\n",
              "        vertical-align: top;\n",
              "    }\n",
              "\n",
              "    .dataframe thead th {\n",
              "        text-align: right;\n",
              "    }\n",
              "</style>\n",
              "<table border=\"1\" class=\"dataframe\">\n",
              "  <thead>\n",
              "    <tr style=\"text-align: right;\">\n",
              "      <th></th>\n",
              "      <th>country</th>\n",
              "      <th>seasonality</th>\n",
              "      <th>year_month</th>\n",
              "      <th>unemployment</th>\n",
              "      <th>unemployment_rate</th>\n",
              "    </tr>\n",
              "  </thead>\n",
              "  <tbody>\n",
              "    <tr>\n",
              "      <th>0</th>\n",
              "      <td>at</td>\n",
              "      <td>nsa</td>\n",
              "      <td>1993.01</td>\n",
              "      <td>171000</td>\n",
              "      <td>4.5</td>\n",
              "    </tr>\n",
              "    <tr>\n",
              "      <th>1</th>\n",
              "      <td>at</td>\n",
              "      <td>nsa</td>\n",
              "      <td>1993.02</td>\n",
              "      <td>175000</td>\n",
              "      <td>4.6</td>\n",
              "    </tr>\n",
              "    <tr>\n",
              "      <th>2</th>\n",
              "      <td>at</td>\n",
              "      <td>nsa</td>\n",
              "      <td>1993.03</td>\n",
              "      <td>166000</td>\n",
              "      <td>4.4</td>\n",
              "    </tr>\n",
              "    <tr>\n",
              "      <th>3</th>\n",
              "      <td>at</td>\n",
              "      <td>nsa</td>\n",
              "      <td>1993.04</td>\n",
              "      <td>157000</td>\n",
              "      <td>4.1</td>\n",
              "    </tr>\n",
              "    <tr>\n",
              "      <th>4</th>\n",
              "      <td>at</td>\n",
              "      <td>nsa</td>\n",
              "      <td>1993.05</td>\n",
              "      <td>147000</td>\n",
              "      <td>3.9</td>\n",
              "    </tr>\n",
              "  </tbody>\n",
              "</table>\n",
              "</div>"
            ],
            "text/plain": [
              "  country seasonality  year_month  unemployment  unemployment_rate\n",
              "0      at         nsa     1993.01        171000                4.5\n",
              "1      at         nsa     1993.02        175000                4.6\n",
              "2      at         nsa     1993.03        166000                4.4\n",
              "3      at         nsa     1993.04        157000                4.1\n",
              "4      at         nsa     1993.05        147000                3.9"
            ]
          },
          "metadata": {
            "tags": []
          },
          "execution_count": 21
        }
      ]
    },
    {
      "cell_type": "markdown",
      "metadata": {
        "id": "NNnINdjz0etn"
      },
      "source": [
        "Before we continue, let's look at a few useful ways to index data—that is, select rows.\n",
        "\n",
        "`.loc` primarily works with string labels. It accepts a single label, a list (or array) of labels, or a slice of labels (e.g., 'a' : 'f').\n",
        "\n",
        "Let's create a DataFrame to see how this works. (This is based on an [example](https://github.com/fonnesbeck/scipy2015_tutorial/blob/master/notebooks/1.%20Data%20Preparation.ipynb) from Chris Fonnesbeck's [Computational Statistics II Tutorial](https://github.com/fonnesbeck/scipy2015_tutorial).)"
      ]
    },
    {
      "cell_type": "code",
      "metadata": {
        "id": "nNuOoVaz02AV"
      },
      "source": [
        "bacteria = pd.DataFrame({'bacteria_counts' : [632, 1638, 569, 115],\n",
        "                         'other_feature' : [438, 833, 234, 298]},\n",
        "                         index=['Firmicutes', 'Proteobacteria', 'Actinobacteria', 'Bacteroidetes'])"
      ],
      "execution_count": 22,
      "outputs": []
    },
    {
      "cell_type": "markdown",
      "metadata": {
        "id": "twIdnwvz2Uxe"
      },
      "source": [
        "Notice that we pass in a `dict`, where the keys correspond to column names and the values to the data. In this example, we've also set the indices—strings in this case—to be the taxon of each bacterium."
      ]
    },
    {
      "cell_type": "code",
      "metadata": {
        "id": "YQl6Zw4Y2eFx",
        "colab": {
          "base_uri": "https://localhost:8080/",
          "height": 166
        },
        "outputId": "0b7edae5-b28b-4f08-ae5c-b7159ed7b7a2"
      },
      "source": [
        "bacteria "
      ],
      "execution_count": 23,
      "outputs": [
        {
          "output_type": "execute_result",
          "data": {
            "text/html": [
              "<div>\n",
              "<style scoped>\n",
              "    .dataframe tbody tr th:only-of-type {\n",
              "        vertical-align: middle;\n",
              "    }\n",
              "\n",
              "    .dataframe tbody tr th {\n",
              "        vertical-align: top;\n",
              "    }\n",
              "\n",
              "    .dataframe thead th {\n",
              "        text-align: right;\n",
              "    }\n",
              "</style>\n",
              "<table border=\"1\" class=\"dataframe\">\n",
              "  <thead>\n",
              "    <tr style=\"text-align: right;\">\n",
              "      <th></th>\n",
              "      <th>bacteria_counts</th>\n",
              "      <th>other_feature</th>\n",
              "    </tr>\n",
              "  </thead>\n",
              "  <tbody>\n",
              "    <tr>\n",
              "      <th>Firmicutes</th>\n",
              "      <td>632</td>\n",
              "      <td>438</td>\n",
              "    </tr>\n",
              "    <tr>\n",
              "      <th>Proteobacteria</th>\n",
              "      <td>1638</td>\n",
              "      <td>833</td>\n",
              "    </tr>\n",
              "    <tr>\n",
              "      <th>Actinobacteria</th>\n",
              "      <td>569</td>\n",
              "      <td>234</td>\n",
              "    </tr>\n",
              "    <tr>\n",
              "      <th>Bacteroidetes</th>\n",
              "      <td>115</td>\n",
              "      <td>298</td>\n",
              "    </tr>\n",
              "  </tbody>\n",
              "</table>\n",
              "</div>"
            ],
            "text/plain": [
              "                bacteria_counts  other_feature\n",
              "Firmicutes                  632            438\n",
              "Proteobacteria             1638            833\n",
              "Actinobacteria              569            234\n",
              "Bacteroidetes               115            298"
            ]
          },
          "metadata": {
            "tags": []
          },
          "execution_count": 23
        }
      ]
    },
    {
      "cell_type": "markdown",
      "metadata": {
        "id": "hugqV3uX2oHt"
      },
      "source": [
        "now, if we're interested in the values (row) associated with \"Actinobacteria,\" we can use .loc and the index name."
      ]
    },
    {
      "cell_type": "code",
      "metadata": {
        "id": "BBNPFS-X2sGk",
        "colab": {
          "base_uri": "https://localhost:8080/"
        },
        "outputId": "a9cfc7ae-3d33-4dda-ac58-2cb5fa7d2da5"
      },
      "source": [
        "# This returns the row with index name \"Actibovacteria\"\n",
        "# It is an object to type Series \n",
        "\n",
        "row = bacteria.loc['Actinobacteria']\n",
        "print(row)\n",
        "print(f\"Notice the row object return is of type {type(row)} because we query for a single row\")"
      ],
      "execution_count": 24,
      "outputs": [
        {
          "output_type": "stream",
          "text": [
            "bacteria_counts    569\n",
            "other_feature      234\n",
            "Name: Actinobacteria, dtype: int64\n",
            "Notice the row object return is of type <class 'pandas.core.series.Series'> because we query for a single row\n"
          ],
          "name": "stdout"
        }
      ]
    },
    {
      "cell_type": "code",
      "metadata": {
        "id": "6SVl2cCQ3fiR",
        "colab": {
          "base_uri": "https://localhost:8080/"
        },
        "outputId": "333f9701-39f1-4e81-cd94-aa77424197cb"
      },
      "source": [
        "row = bacteria[2:3]\n",
        "print(row)\n",
        "print(f\"Notice the row object return is of type {type(row)} because we query a range of rows\")"
      ],
      "execution_count": 25,
      "outputs": [
        {
          "output_type": "stream",
          "text": [
            "                bacteria_counts  other_feature\n",
            "Actinobacteria              569            234\n",
            "Notice the row object return is of type <class 'pandas.core.frame.DataFrame'> because we query a range of rows\n"
          ],
          "name": "stdout"
        }
      ]
    },
    {
      "cell_type": "markdown",
      "metadata": {
        "id": "ZPNm4I0h4pb0"
      },
      "source": [
        "The difference is that the former returns a Series because we selected a single lable, while the latter returns a DataFrame because we selected a range of positions.\n",
        "\n",
        "Let's return to our unemployment data. Another indexing option, `.iloc`, primarily works with integer positions. To select specific rows, we can do the following."
      ]
    },
    {
      "cell_type": "code",
      "metadata": {
        "id": "ObvSRnRn41pO",
        "colab": {
          "base_uri": "https://localhost:8080/",
          "height": 166
        },
        "outputId": "8e85c373-b43f-4ce7-ee71-b6a338771ab6"
      },
      "source": [
        "# Select specific rows using the iloc for integer position index. \n",
        "unemployment.iloc[[1,5,6,9]]"
      ],
      "execution_count": 26,
      "outputs": [
        {
          "output_type": "execute_result",
          "data": {
            "text/html": [
              "<div>\n",
              "<style scoped>\n",
              "    .dataframe tbody tr th:only-of-type {\n",
              "        vertical-align: middle;\n",
              "    }\n",
              "\n",
              "    .dataframe tbody tr th {\n",
              "        vertical-align: top;\n",
              "    }\n",
              "\n",
              "    .dataframe thead th {\n",
              "        text-align: right;\n",
              "    }\n",
              "</style>\n",
              "<table border=\"1\" class=\"dataframe\">\n",
              "  <thead>\n",
              "    <tr style=\"text-align: right;\">\n",
              "      <th></th>\n",
              "      <th>country</th>\n",
              "      <th>seasonality</th>\n",
              "      <th>year_month</th>\n",
              "      <th>unemployment</th>\n",
              "      <th>unemployment_rate</th>\n",
              "    </tr>\n",
              "  </thead>\n",
              "  <tbody>\n",
              "    <tr>\n",
              "      <th>1</th>\n",
              "      <td>at</td>\n",
              "      <td>nsa</td>\n",
              "      <td>1993.02</td>\n",
              "      <td>175000</td>\n",
              "      <td>4.6</td>\n",
              "    </tr>\n",
              "    <tr>\n",
              "      <th>5</th>\n",
              "      <td>at</td>\n",
              "      <td>nsa</td>\n",
              "      <td>1993.06</td>\n",
              "      <td>134000</td>\n",
              "      <td>3.5</td>\n",
              "    </tr>\n",
              "    <tr>\n",
              "      <th>6</th>\n",
              "      <td>at</td>\n",
              "      <td>nsa</td>\n",
              "      <td>1993.07</td>\n",
              "      <td>128000</td>\n",
              "      <td>3.4</td>\n",
              "    </tr>\n",
              "    <tr>\n",
              "      <th>9</th>\n",
              "      <td>at</td>\n",
              "      <td>nsa</td>\n",
              "      <td>1993.10</td>\n",
              "      <td>141000</td>\n",
              "      <td>3.7</td>\n",
              "    </tr>\n",
              "  </tbody>\n",
              "</table>\n",
              "</div>"
            ],
            "text/plain": [
              "  country seasonality  year_month  unemployment  unemployment_rate\n",
              "1      at         nsa     1993.02        175000                4.6\n",
              "5      at         nsa     1993.06        134000                3.5\n",
              "6      at         nsa     1993.07        128000                3.4\n",
              "9      at         nsa     1993.10        141000                3.7"
            ]
          },
          "metadata": {
            "tags": []
          },
          "execution_count": 26
        }
      ]
    },
    {
      "cell_type": "markdown",
      "metadata": {
        "id": "dfNzRg3N5KK3"
      },
      "source": [
        "or we can selext a range of rows and specify the step value (step is the last number) "
      ]
    },
    {
      "cell_type": "code",
      "metadata": {
        "id": "iFYIcDqt5QXo",
        "colab": {
          "base_uri": "https://localhost:8080/",
          "height": 195
        },
        "outputId": "7487a67a-3577-49a9-cf84-c8ddd708cc99"
      },
      "source": [
        "# Return rows 25 to lest than 50, in steps of 5\n",
        "unemployment.iloc[25:50:5]"
      ],
      "execution_count": 27,
      "outputs": [
        {
          "output_type": "execute_result",
          "data": {
            "text/html": [
              "<div>\n",
              "<style scoped>\n",
              "    .dataframe tbody tr th:only-of-type {\n",
              "        vertical-align: middle;\n",
              "    }\n",
              "\n",
              "    .dataframe tbody tr th {\n",
              "        vertical-align: top;\n",
              "    }\n",
              "\n",
              "    .dataframe thead th {\n",
              "        text-align: right;\n",
              "    }\n",
              "</style>\n",
              "<table border=\"1\" class=\"dataframe\">\n",
              "  <thead>\n",
              "    <tr style=\"text-align: right;\">\n",
              "      <th></th>\n",
              "      <th>country</th>\n",
              "      <th>seasonality</th>\n",
              "      <th>year_month</th>\n",
              "      <th>unemployment</th>\n",
              "      <th>unemployment_rate</th>\n",
              "    </tr>\n",
              "  </thead>\n",
              "  <tbody>\n",
              "    <tr>\n",
              "      <th>25</th>\n",
              "      <td>at</td>\n",
              "      <td>nsa</td>\n",
              "      <td>1995.02</td>\n",
              "      <td>174000</td>\n",
              "      <td>4.5</td>\n",
              "    </tr>\n",
              "    <tr>\n",
              "      <th>30</th>\n",
              "      <td>at</td>\n",
              "      <td>nsa</td>\n",
              "      <td>1995.07</td>\n",
              "      <td>123000</td>\n",
              "      <td>3.3</td>\n",
              "    </tr>\n",
              "    <tr>\n",
              "      <th>35</th>\n",
              "      <td>at</td>\n",
              "      <td>nsa</td>\n",
              "      <td>1995.12</td>\n",
              "      <td>175000</td>\n",
              "      <td>4.7</td>\n",
              "    </tr>\n",
              "    <tr>\n",
              "      <th>40</th>\n",
              "      <td>at</td>\n",
              "      <td>nsa</td>\n",
              "      <td>1996.05</td>\n",
              "      <td>159000</td>\n",
              "      <td>4.3</td>\n",
              "    </tr>\n",
              "    <tr>\n",
              "      <th>45</th>\n",
              "      <td>at</td>\n",
              "      <td>nsa</td>\n",
              "      <td>1996.10</td>\n",
              "      <td>146000</td>\n",
              "      <td>3.9</td>\n",
              "    </tr>\n",
              "  </tbody>\n",
              "</table>\n",
              "</div>"
            ],
            "text/plain": [
              "   country seasonality  year_month  unemployment  unemployment_rate\n",
              "25      at         nsa     1995.02        174000                4.5\n",
              "30      at         nsa     1995.07        123000                3.3\n",
              "35      at         nsa     1995.12        175000                4.7\n",
              "40      at         nsa     1996.05        159000                4.3\n",
              "45      at         nsa     1996.10        146000                3.9"
            ]
          },
          "metadata": {
            "tags": []
          },
          "execution_count": 27
        }
      ]
    },
    {
      "cell_type": "markdown",
      "metadata": {
        "id": "oOEb29Cr5lkA"
      },
      "source": [
        "indexing is important for organizing and accessing your data. You'll use it a lot. Below, we'll show how to index based on data values.\n",
        "\n",
        "### Challenge 2: Practing Indexing and Slicing \n",
        "\n",
        "**Challenge 2.1: Renaming baceria**\n",
        "\n",
        "The \"other_feature\" column in our bacteria table isn't very descriptive. Suppose we know that \"other_feature\" refers to a second set of bacteria count observations. Use the rename method to give \"other_feature\" a more descriptive name."
      ]
    },
    {
      "cell_type": "code",
      "metadata": {
        "id": "CQcQdDg567U6",
        "colab": {
          "base_uri": "https://localhost:8080/",
          "height": 166
        },
        "outputId": "19988f87-74ba-4088-b38b-1fbc8208aa64"
      },
      "source": [
        "# Use this cell to complete challenge 2.1 \r\n",
        "bacteria.rename(columns={'other_feature' : '2nd_bacteria_count'}, inplace=True)\r\n",
        "bacteria"
      ],
      "execution_count": 28,
      "outputs": [
        {
          "output_type": "execute_result",
          "data": {
            "text/html": [
              "<div>\n",
              "<style scoped>\n",
              "    .dataframe tbody tr th:only-of-type {\n",
              "        vertical-align: middle;\n",
              "    }\n",
              "\n",
              "    .dataframe tbody tr th {\n",
              "        vertical-align: top;\n",
              "    }\n",
              "\n",
              "    .dataframe thead th {\n",
              "        text-align: right;\n",
              "    }\n",
              "</style>\n",
              "<table border=\"1\" class=\"dataframe\">\n",
              "  <thead>\n",
              "    <tr style=\"text-align: right;\">\n",
              "      <th></th>\n",
              "      <th>bacteria_counts</th>\n",
              "      <th>2nd_bacteria_count</th>\n",
              "    </tr>\n",
              "  </thead>\n",
              "  <tbody>\n",
              "    <tr>\n",
              "      <th>Firmicutes</th>\n",
              "      <td>632</td>\n",
              "      <td>438</td>\n",
              "    </tr>\n",
              "    <tr>\n",
              "      <th>Proteobacteria</th>\n",
              "      <td>1638</td>\n",
              "      <td>833</td>\n",
              "    </tr>\n",
              "    <tr>\n",
              "      <th>Actinobacteria</th>\n",
              "      <td>569</td>\n",
              "      <td>234</td>\n",
              "    </tr>\n",
              "    <tr>\n",
              "      <th>Bacteroidetes</th>\n",
              "      <td>115</td>\n",
              "      <td>298</td>\n",
              "    </tr>\n",
              "  </tbody>\n",
              "</table>\n",
              "</div>"
            ],
            "text/plain": [
              "                bacteria_counts  2nd_bacteria_count\n",
              "Firmicutes                  632                 438\n",
              "Proteobacteria             1638                 833\n",
              "Actinobacteria              569                 234\n",
              "Bacteroidetes               115                 298"
            ]
          },
          "metadata": {
            "tags": []
          },
          "execution_count": 28
        }
      ]
    },
    {
      "cell_type": "markdown",
      "metadata": {
        "id": "PTYIwdkY7ytK"
      },
      "source": [
        "**Challenge 2.2: Indexing to get a specific value** \n",
        "\n",
        "Both `loc` and `iloc` can be used to select a particular value if they are given two arguments. The first argument is the name (when using `loc`) or index number (when using `iloc`) of the row you want, while the second argument is the name or index number of the column you want.\n",
        "\n",
        "Using `loc`, select \"Bacteroidetes\" and \"bacteria_counts\" to get the count of Bacteroidetes.\n",
        "\n",
        "BONUS: how could you do the same task using iloc?"
      ]
    },
    {
      "cell_type": "code",
      "metadata": {
        "id": "iyB8Qv5m8CUh",
        "colab": {
          "base_uri": "https://localhost:8080/"
        },
        "outputId": "bea96ae5-3814-4792-ae45-f9a04f4b36f6"
      },
      "source": [
        "# Use this cell to complete challenge 2.2\r\n",
        "row = bacteria.loc['Bacteroidetes']\r\n",
        "print(row)"
      ],
      "execution_count": 29,
      "outputs": [
        {
          "output_type": "stream",
          "text": [
            "bacteria_counts       115\n",
            "2nd_bacteria_count    298\n",
            "Name: Bacteroidetes, dtype: int64\n"
          ],
          "name": "stdout"
        }
      ]
    },
    {
      "cell_type": "markdown",
      "metadata": {
        "id": "53x0Xx-h8Jn5"
      },
      "source": [
        "**Challenge 2.3: Indexing multiple rows and columns** \n",
        "\n",
        "Both `loc` and `iloc` can be used to select subsets of columns and rows at the same time if they are given lists (and/or slices, for `iloc`] as their two arguments.\n",
        "\n",
        "Using `iloc` on the `unemployment` DataFrame, get:\n",
        "\n",
        "- every row starting at row 4 and ending at row 7\n",
        "- the 0th, 2nd, and 3rd columns\n",
        "\n",
        "BONUS: how could you do the same task using loc?"
      ]
    },
    {
      "cell_type": "code",
      "metadata": {
        "id": "dj6Hgo8e8doH",
        "colab": {
          "base_uri": "https://localhost:8080/",
          "height": 166
        },
        "outputId": "598dbee8-8bf5-4ca4-e581-844722e655c3"
      },
      "source": [
        "# Use this cell to complete challenge 2.3\r\n",
        "unemployment.iloc[4:8, [0, 2, 3]]"
      ],
      "execution_count": 30,
      "outputs": [
        {
          "output_type": "execute_result",
          "data": {
            "text/html": [
              "<div>\n",
              "<style scoped>\n",
              "    .dataframe tbody tr th:only-of-type {\n",
              "        vertical-align: middle;\n",
              "    }\n",
              "\n",
              "    .dataframe tbody tr th {\n",
              "        vertical-align: top;\n",
              "    }\n",
              "\n",
              "    .dataframe thead th {\n",
              "        text-align: right;\n",
              "    }\n",
              "</style>\n",
              "<table border=\"1\" class=\"dataframe\">\n",
              "  <thead>\n",
              "    <tr style=\"text-align: right;\">\n",
              "      <th></th>\n",
              "      <th>country</th>\n",
              "      <th>year_month</th>\n",
              "      <th>unemployment</th>\n",
              "    </tr>\n",
              "  </thead>\n",
              "  <tbody>\n",
              "    <tr>\n",
              "      <th>4</th>\n",
              "      <td>at</td>\n",
              "      <td>1993.05</td>\n",
              "      <td>147000</td>\n",
              "    </tr>\n",
              "    <tr>\n",
              "      <th>5</th>\n",
              "      <td>at</td>\n",
              "      <td>1993.06</td>\n",
              "      <td>134000</td>\n",
              "    </tr>\n",
              "    <tr>\n",
              "      <th>6</th>\n",
              "      <td>at</td>\n",
              "      <td>1993.07</td>\n",
              "      <td>128000</td>\n",
              "    </tr>\n",
              "    <tr>\n",
              "      <th>7</th>\n",
              "      <td>at</td>\n",
              "      <td>1993.08</td>\n",
              "      <td>130000</td>\n",
              "    </tr>\n",
              "  </tbody>\n",
              "</table>\n",
              "</div>"
            ],
            "text/plain": [
              "  country  year_month  unemployment\n",
              "4      at     1993.05        147000\n",
              "5      at     1993.06        134000\n",
              "6      at     1993.07        128000\n",
              "7      at     1993.08        130000"
            ]
          },
          "metadata": {
            "tags": []
          },
          "execution_count": 30
        }
      ]
    },
    {
      "cell_type": "markdown",
      "metadata": {
        "id": "vGYvPkPW-O6c"
      },
      "source": [
        "## 3. Manipulating Columns: Renaming, Creating, Reordering"
      ]
    },
    {
      "cell_type": "markdown",
      "metadata": {
        "id": "WJs2cL6V-UaF"
      },
      "source": [
        "So, we still want to **split `year_month` into two separate columns.** Above, we saw that this column is type (technically, `dtype`) `float64`. We'll first extract the year using the `.astype()` method. This allows for type casting&mdash;basically converting from one type to another. We'll then subtract this value from `year_month`&mdash;to get the decimal portion of the value&mdash;and multiply the result by 100 and convert to `int`.\n",
        "\n",
        "For more information on `pandas` `dtype`s, check the documentation [here](http://pandas.pydata.org/pandas-docs/stable/basics.html#dtypes)."
      ]
    },
    {
      "cell_type": "code",
      "metadata": {
        "id": "wEzgFOwmBIYN"
      },
      "source": [
        "# Create a new column 'year` that includes only the integer part of the year_month field.\n",
        "\n",
        "unemployment['year'] = unemployment['year_month'].astype(int)"
      ],
      "execution_count": 31,
      "outputs": []
    },
    {
      "cell_type": "markdown",
      "metadata": {
        "id": "foZXklDCBogk"
      },
      "source": [
        "In this case, we're casting the floating point values to integers. In Python, this [truncates the decimals](https://docs.python.org/2/library/stdtypes.html#numeric-types-int-float-long-complex).\n",
        "\n",
        "Finally, let's create our **month** variable as described above. (Because of the truncating that occurs when casting to `int`, we first round the values to the nearest whole number.)"
      ]
    },
    {
      "cell_type": "code",
      "metadata": {
        "id": "DRcLkP7c-hky"
      },
      "source": [
        "# Create a new column 'month' \n",
        "unemployment['month'] = ((unemployment['year_month'] - unemployment['year']) * 100).round(0).astype(int)"
      ],
      "execution_count": 32,
      "outputs": []
    },
    {
      "cell_type": "code",
      "metadata": {
        "id": "ca5gs0cxA2Js",
        "colab": {
          "base_uri": "https://localhost:8080/",
          "height": 195
        },
        "outputId": "623a4b9b-077a-48a9-8aa9-0e6afb8e9a31"
      },
      "source": [
        "unemployment.head()"
      ],
      "execution_count": 33,
      "outputs": [
        {
          "output_type": "execute_result",
          "data": {
            "text/html": [
              "<div>\n",
              "<style scoped>\n",
              "    .dataframe tbody tr th:only-of-type {\n",
              "        vertical-align: middle;\n",
              "    }\n",
              "\n",
              "    .dataframe tbody tr th {\n",
              "        vertical-align: top;\n",
              "    }\n",
              "\n",
              "    .dataframe thead th {\n",
              "        text-align: right;\n",
              "    }\n",
              "</style>\n",
              "<table border=\"1\" class=\"dataframe\">\n",
              "  <thead>\n",
              "    <tr style=\"text-align: right;\">\n",
              "      <th></th>\n",
              "      <th>country</th>\n",
              "      <th>seasonality</th>\n",
              "      <th>year_month</th>\n",
              "      <th>unemployment</th>\n",
              "      <th>unemployment_rate</th>\n",
              "      <th>year</th>\n",
              "      <th>month</th>\n",
              "    </tr>\n",
              "  </thead>\n",
              "  <tbody>\n",
              "    <tr>\n",
              "      <th>0</th>\n",
              "      <td>at</td>\n",
              "      <td>nsa</td>\n",
              "      <td>1993.01</td>\n",
              "      <td>171000</td>\n",
              "      <td>4.5</td>\n",
              "      <td>1993</td>\n",
              "      <td>1</td>\n",
              "    </tr>\n",
              "    <tr>\n",
              "      <th>1</th>\n",
              "      <td>at</td>\n",
              "      <td>nsa</td>\n",
              "      <td>1993.02</td>\n",
              "      <td>175000</td>\n",
              "      <td>4.6</td>\n",
              "      <td>1993</td>\n",
              "      <td>2</td>\n",
              "    </tr>\n",
              "    <tr>\n",
              "      <th>2</th>\n",
              "      <td>at</td>\n",
              "      <td>nsa</td>\n",
              "      <td>1993.03</td>\n",
              "      <td>166000</td>\n",
              "      <td>4.4</td>\n",
              "      <td>1993</td>\n",
              "      <td>3</td>\n",
              "    </tr>\n",
              "    <tr>\n",
              "      <th>3</th>\n",
              "      <td>at</td>\n",
              "      <td>nsa</td>\n",
              "      <td>1993.04</td>\n",
              "      <td>157000</td>\n",
              "      <td>4.1</td>\n",
              "      <td>1993</td>\n",
              "      <td>4</td>\n",
              "    </tr>\n",
              "    <tr>\n",
              "      <th>4</th>\n",
              "      <td>at</td>\n",
              "      <td>nsa</td>\n",
              "      <td>1993.05</td>\n",
              "      <td>147000</td>\n",
              "      <td>3.9</td>\n",
              "      <td>1993</td>\n",
              "      <td>5</td>\n",
              "    </tr>\n",
              "  </tbody>\n",
              "</table>\n",
              "</div>"
            ],
            "text/plain": [
              "  country seasonality  year_month  unemployment  unemployment_rate  year  month\n",
              "0      at         nsa     1993.01        171000                4.5  1993      1\n",
              "1      at         nsa     1993.02        175000                4.6  1993      2\n",
              "2      at         nsa     1993.03        166000                4.4  1993      3\n",
              "3      at         nsa     1993.04        157000                4.1  1993      4\n",
              "4      at         nsa     1993.05        147000                3.9  1993      5"
            ]
          },
          "metadata": {
            "tags": []
          },
          "execution_count": 33
        }
      ]
    },
    {
      "cell_type": "markdown",
      "metadata": {
        "id": "dzqU7Z1aBvBs"
      },
      "source": [
        "To create the `month` column, we subtracted two vectors. This resulted in the decimal value in `year_month`. To transform the values to integers, we multiplied by 100.\n",
        "\n",
        "Now, let's say we wanted to **reorder the columns** in the `DataFrame`. For this, we use bracket notation again, passing in a list of column names in the order we'd like to see them."
      ]
    },
    {
      "cell_type": "code",
      "metadata": {
        "id": "HSBaZTknB3bO"
      },
      "source": [
        "unemployment = unemployment[['country', 'seasonality',\n",
        "                             'year_month', 'year', 'month',\n",
        "                             'unemployment', 'unemployment_rate']]"
      ],
      "execution_count": 34,
      "outputs": []
    },
    {
      "cell_type": "code",
      "metadata": {
        "id": "3YEy0TszB6Xn",
        "colab": {
          "base_uri": "https://localhost:8080/",
          "height": 343
        },
        "outputId": "13dfc2c1-5492-4ed5-85f3-076efb1f4c01"
      },
      "source": [
        "unemployment.head(10)"
      ],
      "execution_count": 35,
      "outputs": [
        {
          "output_type": "execute_result",
          "data": {
            "text/html": [
              "<div>\n",
              "<style scoped>\n",
              "    .dataframe tbody tr th:only-of-type {\n",
              "        vertical-align: middle;\n",
              "    }\n",
              "\n",
              "    .dataframe tbody tr th {\n",
              "        vertical-align: top;\n",
              "    }\n",
              "\n",
              "    .dataframe thead th {\n",
              "        text-align: right;\n",
              "    }\n",
              "</style>\n",
              "<table border=\"1\" class=\"dataframe\">\n",
              "  <thead>\n",
              "    <tr style=\"text-align: right;\">\n",
              "      <th></th>\n",
              "      <th>country</th>\n",
              "      <th>seasonality</th>\n",
              "      <th>year_month</th>\n",
              "      <th>year</th>\n",
              "      <th>month</th>\n",
              "      <th>unemployment</th>\n",
              "      <th>unemployment_rate</th>\n",
              "    </tr>\n",
              "  </thead>\n",
              "  <tbody>\n",
              "    <tr>\n",
              "      <th>0</th>\n",
              "      <td>at</td>\n",
              "      <td>nsa</td>\n",
              "      <td>1993.01</td>\n",
              "      <td>1993</td>\n",
              "      <td>1</td>\n",
              "      <td>171000</td>\n",
              "      <td>4.5</td>\n",
              "    </tr>\n",
              "    <tr>\n",
              "      <th>1</th>\n",
              "      <td>at</td>\n",
              "      <td>nsa</td>\n",
              "      <td>1993.02</td>\n",
              "      <td>1993</td>\n",
              "      <td>2</td>\n",
              "      <td>175000</td>\n",
              "      <td>4.6</td>\n",
              "    </tr>\n",
              "    <tr>\n",
              "      <th>2</th>\n",
              "      <td>at</td>\n",
              "      <td>nsa</td>\n",
              "      <td>1993.03</td>\n",
              "      <td>1993</td>\n",
              "      <td>3</td>\n",
              "      <td>166000</td>\n",
              "      <td>4.4</td>\n",
              "    </tr>\n",
              "    <tr>\n",
              "      <th>3</th>\n",
              "      <td>at</td>\n",
              "      <td>nsa</td>\n",
              "      <td>1993.04</td>\n",
              "      <td>1993</td>\n",
              "      <td>4</td>\n",
              "      <td>157000</td>\n",
              "      <td>4.1</td>\n",
              "    </tr>\n",
              "    <tr>\n",
              "      <th>4</th>\n",
              "      <td>at</td>\n",
              "      <td>nsa</td>\n",
              "      <td>1993.05</td>\n",
              "      <td>1993</td>\n",
              "      <td>5</td>\n",
              "      <td>147000</td>\n",
              "      <td>3.9</td>\n",
              "    </tr>\n",
              "    <tr>\n",
              "      <th>5</th>\n",
              "      <td>at</td>\n",
              "      <td>nsa</td>\n",
              "      <td>1993.06</td>\n",
              "      <td>1993</td>\n",
              "      <td>6</td>\n",
              "      <td>134000</td>\n",
              "      <td>3.5</td>\n",
              "    </tr>\n",
              "    <tr>\n",
              "      <th>6</th>\n",
              "      <td>at</td>\n",
              "      <td>nsa</td>\n",
              "      <td>1993.07</td>\n",
              "      <td>1993</td>\n",
              "      <td>7</td>\n",
              "      <td>128000</td>\n",
              "      <td>3.4</td>\n",
              "    </tr>\n",
              "    <tr>\n",
              "      <th>7</th>\n",
              "      <td>at</td>\n",
              "      <td>nsa</td>\n",
              "      <td>1993.08</td>\n",
              "      <td>1993</td>\n",
              "      <td>8</td>\n",
              "      <td>130000</td>\n",
              "      <td>3.4</td>\n",
              "    </tr>\n",
              "    <tr>\n",
              "      <th>8</th>\n",
              "      <td>at</td>\n",
              "      <td>nsa</td>\n",
              "      <td>1993.09</td>\n",
              "      <td>1993</td>\n",
              "      <td>9</td>\n",
              "      <td>132000</td>\n",
              "      <td>3.5</td>\n",
              "    </tr>\n",
              "    <tr>\n",
              "      <th>9</th>\n",
              "      <td>at</td>\n",
              "      <td>nsa</td>\n",
              "      <td>1993.10</td>\n",
              "      <td>1993</td>\n",
              "      <td>10</td>\n",
              "      <td>141000</td>\n",
              "      <td>3.7</td>\n",
              "    </tr>\n",
              "  </tbody>\n",
              "</table>\n",
              "</div>"
            ],
            "text/plain": [
              "  country seasonality  year_month  year  month  unemployment  unemployment_rate\n",
              "0      at         nsa     1993.01  1993      1        171000                4.5\n",
              "1      at         nsa     1993.02  1993      2        175000                4.6\n",
              "2      at         nsa     1993.03  1993      3        166000                4.4\n",
              "3      at         nsa     1993.04  1993      4        157000                4.1\n",
              "4      at         nsa     1993.05  1993      5        147000                3.9\n",
              "5      at         nsa     1993.06  1993      6        134000                3.5\n",
              "6      at         nsa     1993.07  1993      7        128000                3.4\n",
              "7      at         nsa     1993.08  1993      8        130000                3.4\n",
              "8      at         nsa     1993.09  1993      9        132000                3.5\n",
              "9      at         nsa     1993.10  1993     10        141000                3.7"
            ]
          },
          "metadata": {
            "tags": []
          },
          "execution_count": 35
        }
      ]
    },
    {
      "cell_type": "markdown",
      "metadata": {
        "id": "D8K3Ke0MB4TF"
      },
      "source": [
        "### Challenge 3: Another way to get the month\n",
        "\n",
        "If you didn't know that casting floats to ints truncates the decimals in Python, you could have used NumPy's `floor()` function. `np.floor` takes an array or Pandas Series of floats as its argument, and returns an array or Series where every float has been rounded down to the nearest whole number. \n",
        "\n",
        "Use `np.floor` to round the values in the \"year_month\" column down so we can cast them as integer years. Note that the types are still floats, so we'll still need to use `astype` to typecast."
      ]
    },
    {
      "cell_type": "code",
      "metadata": {
        "id": "8v753FcSCQu7",
        "colab": {
          "base_uri": "https://localhost:8080/"
        },
        "outputId": "2a1a7982-6a68-4c80-f1e0-1a8e7f3d6fa0"
      },
      "source": [
        "import numpy as np\n",
        "\n",
        "# select the \"year_month\" column\n",
        "year_month = unemployment['year']\n",
        "\n",
        "# use np.floor on year_month to get the years as floats\n",
        "years_by_floor = np.floor(year_month)\n",
        "\n",
        "# cast years_by_floor to integers using astype(int)\n",
        "int_years = years_by_floor.astype(int)\n",
        "\n",
        "# check that this gets the same answers as our first approach\n",
        "# this should return True\n",
        "(unemployment['year_month'].astype(int) == int_years).all()"
      ],
      "execution_count": 46,
      "outputs": [
        {
          "output_type": "execute_result",
          "data": {
            "text/plain": [
              "True"
            ]
          },
          "metadata": {
            "tags": []
          },
          "execution_count": 46
        }
      ]
    },
    {
      "cell_type": "markdown",
      "metadata": {
        "id": "4ZB_eiJyCUYc"
      },
      "source": [
        "The last line of code in the previous cell does an element-wise comparison of the values in the corresponding arrays. The `.all()` method checks whether *all* elements are `True`."
      ]
    },
    {
      "cell_type": "markdown",
      "metadata": {
        "id": "ArvWGG6pCgxz"
      },
      "source": [
        "## 4. Merging"
      ]
    },
    {
      "cell_type": "markdown",
      "metadata": {
        "id": "-63WPvT0CmsI"
      },
      "source": [
        "So far, our `DataFrame` is organized in a reasonable way. But, we know we can do better. We're eventually going to be interested in the unemployment rate for each country. The trouble is, we don't exactly know what the values in `country` refer to. We can fix that by getting country names. These can be found in `countries.csv`. Run the following cell to import the countries data using a URL as the file path."
      ]
    },
    {
      "cell_type": "code",
      "metadata": {
        "id": "evt1rV4ZC1HL",
        "colab": {
          "base_uri": "https://localhost:8080/",
          "height": 952
        },
        "outputId": "d934185d-d352-4fbc-de0c-2b215fa32e22"
      },
      "source": [
        "countries = pd.read_csv(\"sample_data/problem_set01/countries.csv\")\n",
        "countries.tail(30)"
      ],
      "execution_count": 47,
      "outputs": [
        {
          "output_type": "execute_result",
          "data": {
            "text/html": [
              "<div>\n",
              "<style scoped>\n",
              "    .dataframe tbody tr th:only-of-type {\n",
              "        vertical-align: middle;\n",
              "    }\n",
              "\n",
              "    .dataframe tbody tr th {\n",
              "        vertical-align: top;\n",
              "    }\n",
              "\n",
              "    .dataframe thead th {\n",
              "        text-align: right;\n",
              "    }\n",
              "</style>\n",
              "<table border=\"1\" class=\"dataframe\">\n",
              "  <thead>\n",
              "    <tr style=\"text-align: right;\">\n",
              "      <th></th>\n",
              "      <th>country</th>\n",
              "      <th>google_country_code</th>\n",
              "      <th>country_group</th>\n",
              "      <th>name_en</th>\n",
              "      <th>name_fr</th>\n",
              "      <th>name_de</th>\n",
              "      <th>latitude</th>\n",
              "      <th>longitude</th>\n",
              "    </tr>\n",
              "  </thead>\n",
              "  <tbody>\n",
              "    <tr>\n",
              "      <th>0</th>\n",
              "      <td>at</td>\n",
              "      <td>AT</td>\n",
              "      <td>eu</td>\n",
              "      <td>Austria</td>\n",
              "      <td>Autriche</td>\n",
              "      <td>Österreich</td>\n",
              "      <td>47.696554</td>\n",
              "      <td>13.345980</td>\n",
              "    </tr>\n",
              "    <tr>\n",
              "      <th>1</th>\n",
              "      <td>be</td>\n",
              "      <td>BE</td>\n",
              "      <td>eu</td>\n",
              "      <td>Belgium</td>\n",
              "      <td>Belgique</td>\n",
              "      <td>Belgien</td>\n",
              "      <td>50.501045</td>\n",
              "      <td>4.476674</td>\n",
              "    </tr>\n",
              "    <tr>\n",
              "      <th>2</th>\n",
              "      <td>bg</td>\n",
              "      <td>BG</td>\n",
              "      <td>eu</td>\n",
              "      <td>Bulgaria</td>\n",
              "      <td>Bulgarie</td>\n",
              "      <td>Bulgarien</td>\n",
              "      <td>42.725674</td>\n",
              "      <td>25.482322</td>\n",
              "    </tr>\n",
              "    <tr>\n",
              "      <th>3</th>\n",
              "      <td>hr</td>\n",
              "      <td>HR</td>\n",
              "      <td>non-eu</td>\n",
              "      <td>Croatia</td>\n",
              "      <td>Croatie</td>\n",
              "      <td>Kroatien</td>\n",
              "      <td>44.746643</td>\n",
              "      <td>15.340844</td>\n",
              "    </tr>\n",
              "    <tr>\n",
              "      <th>4</th>\n",
              "      <td>cy</td>\n",
              "      <td>CY</td>\n",
              "      <td>eu</td>\n",
              "      <td>Cyprus</td>\n",
              "      <td>Chypre</td>\n",
              "      <td>Zypern</td>\n",
              "      <td>35.129141</td>\n",
              "      <td>33.428682</td>\n",
              "    </tr>\n",
              "    <tr>\n",
              "      <th>5</th>\n",
              "      <td>cz</td>\n",
              "      <td>CZ</td>\n",
              "      <td>eu</td>\n",
              "      <td>Czech Republic</td>\n",
              "      <td>République tchèque</td>\n",
              "      <td>Tschechische Republik</td>\n",
              "      <td>49.803531</td>\n",
              "      <td>15.474998</td>\n",
              "    </tr>\n",
              "    <tr>\n",
              "      <th>6</th>\n",
              "      <td>dk</td>\n",
              "      <td>DK</td>\n",
              "      <td>eu</td>\n",
              "      <td>Denmark</td>\n",
              "      <td>Danemark</td>\n",
              "      <td>Dänemark</td>\n",
              "      <td>55.939684</td>\n",
              "      <td>9.516689</td>\n",
              "    </tr>\n",
              "    <tr>\n",
              "      <th>7</th>\n",
              "      <td>ee</td>\n",
              "      <td>EE</td>\n",
              "      <td>eu</td>\n",
              "      <td>Estonia</td>\n",
              "      <td>Estonie</td>\n",
              "      <td>Estland</td>\n",
              "      <td>58.592469</td>\n",
              "      <td>25.806950</td>\n",
              "    </tr>\n",
              "    <tr>\n",
              "      <th>8</th>\n",
              "      <td>fi</td>\n",
              "      <td>FI</td>\n",
              "      <td>eu</td>\n",
              "      <td>Finland</td>\n",
              "      <td>Finlande</td>\n",
              "      <td>Finnland</td>\n",
              "      <td>64.950159</td>\n",
              "      <td>26.067564</td>\n",
              "    </tr>\n",
              "    <tr>\n",
              "      <th>9</th>\n",
              "      <td>fr</td>\n",
              "      <td>FR</td>\n",
              "      <td>eu</td>\n",
              "      <td>France</td>\n",
              "      <td>France</td>\n",
              "      <td>Frankreich</td>\n",
              "      <td>46.710994</td>\n",
              "      <td>1.718561</td>\n",
              "    </tr>\n",
              "    <tr>\n",
              "      <th>10</th>\n",
              "      <td>de</td>\n",
              "      <td>DE</td>\n",
              "      <td>eu</td>\n",
              "      <td>Germany (including  former GDR from 1991)</td>\n",
              "      <td>Allemagne (incluant l'ancienne RDA à partir de...</td>\n",
              "      <td>Deutschland (einschließlich der ehemaligen DDR...</td>\n",
              "      <td>51.163825</td>\n",
              "      <td>10.454048</td>\n",
              "    </tr>\n",
              "    <tr>\n",
              "      <th>11</th>\n",
              "      <td>gr</td>\n",
              "      <td>GR</td>\n",
              "      <td>eu</td>\n",
              "      <td>Greece</td>\n",
              "      <td>Grèce</td>\n",
              "      <td>Griechenland</td>\n",
              "      <td>39.698467</td>\n",
              "      <td>21.577256</td>\n",
              "    </tr>\n",
              "    <tr>\n",
              "      <th>12</th>\n",
              "      <td>hu</td>\n",
              "      <td>HU</td>\n",
              "      <td>eu</td>\n",
              "      <td>Hungary</td>\n",
              "      <td>Hongrie</td>\n",
              "      <td>Ungarn</td>\n",
              "      <td>47.161163</td>\n",
              "      <td>19.504265</td>\n",
              "    </tr>\n",
              "    <tr>\n",
              "      <th>13</th>\n",
              "      <td>ie</td>\n",
              "      <td>IE</td>\n",
              "      <td>eu</td>\n",
              "      <td>Ireland</td>\n",
              "      <td>Irlande</td>\n",
              "      <td>Irland</td>\n",
              "      <td>53.415260</td>\n",
              "      <td>-8.239122</td>\n",
              "    </tr>\n",
              "    <tr>\n",
              "      <th>14</th>\n",
              "      <td>it</td>\n",
              "      <td>IT</td>\n",
              "      <td>eu</td>\n",
              "      <td>Italy</td>\n",
              "      <td>Italie</td>\n",
              "      <td>Italien</td>\n",
              "      <td>42.504191</td>\n",
              "      <td>12.573787</td>\n",
              "    </tr>\n",
              "    <tr>\n",
              "      <th>15</th>\n",
              "      <td>lv</td>\n",
              "      <td>LV</td>\n",
              "      <td>eu</td>\n",
              "      <td>Latvia</td>\n",
              "      <td>Lettonie</td>\n",
              "      <td>Lettland</td>\n",
              "      <td>56.880117</td>\n",
              "      <td>24.606555</td>\n",
              "    </tr>\n",
              "    <tr>\n",
              "      <th>16</th>\n",
              "      <td>lt</td>\n",
              "      <td>LT</td>\n",
              "      <td>eu</td>\n",
              "      <td>Lithuania</td>\n",
              "      <td>Lituanie</td>\n",
              "      <td>Litauen</td>\n",
              "      <td>55.173687</td>\n",
              "      <td>23.943168</td>\n",
              "    </tr>\n",
              "    <tr>\n",
              "      <th>17</th>\n",
              "      <td>lu</td>\n",
              "      <td>LU</td>\n",
              "      <td>eu</td>\n",
              "      <td>Luxembourg</td>\n",
              "      <td>Luxembourg</td>\n",
              "      <td>Luxemburg</td>\n",
              "      <td>49.815319</td>\n",
              "      <td>6.133352</td>\n",
              "    </tr>\n",
              "    <tr>\n",
              "      <th>18</th>\n",
              "      <td>mt</td>\n",
              "      <td>MT</td>\n",
              "      <td>eu</td>\n",
              "      <td>Malta</td>\n",
              "      <td>Malte</td>\n",
              "      <td>Malta</td>\n",
              "      <td>35.902422</td>\n",
              "      <td>14.447461</td>\n",
              "    </tr>\n",
              "    <tr>\n",
              "      <th>19</th>\n",
              "      <td>nl</td>\n",
              "      <td>NL</td>\n",
              "      <td>eu</td>\n",
              "      <td>Netherlands</td>\n",
              "      <td>Pays-Bas</td>\n",
              "      <td>Niederlande</td>\n",
              "      <td>52.108118</td>\n",
              "      <td>5.330198</td>\n",
              "    </tr>\n",
              "    <tr>\n",
              "      <th>20</th>\n",
              "      <td>no</td>\n",
              "      <td>NO</td>\n",
              "      <td>non-eu</td>\n",
              "      <td>Norway</td>\n",
              "      <td>Norvège</td>\n",
              "      <td>Norwegen</td>\n",
              "      <td>64.556460</td>\n",
              "      <td>12.665766</td>\n",
              "    </tr>\n",
              "    <tr>\n",
              "      <th>21</th>\n",
              "      <td>pl</td>\n",
              "      <td>PL</td>\n",
              "      <td>eu</td>\n",
              "      <td>Poland</td>\n",
              "      <td>Pologne</td>\n",
              "      <td>Polen</td>\n",
              "      <td>51.918907</td>\n",
              "      <td>19.134334</td>\n",
              "    </tr>\n",
              "    <tr>\n",
              "      <th>22</th>\n",
              "      <td>pt</td>\n",
              "      <td>PT</td>\n",
              "      <td>eu</td>\n",
              "      <td>Portugal</td>\n",
              "      <td>Portugal</td>\n",
              "      <td>Portugal</td>\n",
              "      <td>39.558069</td>\n",
              "      <td>-7.844941</td>\n",
              "    </tr>\n",
              "    <tr>\n",
              "      <th>23</th>\n",
              "      <td>ro</td>\n",
              "      <td>RO</td>\n",
              "      <td>eu</td>\n",
              "      <td>Romania</td>\n",
              "      <td>Roumanie</td>\n",
              "      <td>Rumänien</td>\n",
              "      <td>45.942611</td>\n",
              "      <td>24.990152</td>\n",
              "    </tr>\n",
              "    <tr>\n",
              "      <th>24</th>\n",
              "      <td>sk</td>\n",
              "      <td>SK</td>\n",
              "      <td>eu</td>\n",
              "      <td>Slovakia</td>\n",
              "      <td>Slovaquie</td>\n",
              "      <td>Slowakei</td>\n",
              "      <td>48.672644</td>\n",
              "      <td>19.700032</td>\n",
              "    </tr>\n",
              "    <tr>\n",
              "      <th>25</th>\n",
              "      <td>si</td>\n",
              "      <td>SI</td>\n",
              "      <td>eu</td>\n",
              "      <td>Slovenia</td>\n",
              "      <td>Slovénie</td>\n",
              "      <td>Slowenien</td>\n",
              "      <td>46.149259</td>\n",
              "      <td>14.986617</td>\n",
              "    </tr>\n",
              "    <tr>\n",
              "      <th>26</th>\n",
              "      <td>es</td>\n",
              "      <td>ES</td>\n",
              "      <td>eu</td>\n",
              "      <td>Spain</td>\n",
              "      <td>Espagne</td>\n",
              "      <td>Spanien</td>\n",
              "      <td>39.895013</td>\n",
              "      <td>-2.988296</td>\n",
              "    </tr>\n",
              "    <tr>\n",
              "      <th>27</th>\n",
              "      <td>se</td>\n",
              "      <td>SE</td>\n",
              "      <td>eu</td>\n",
              "      <td>Sweden</td>\n",
              "      <td>Suède</td>\n",
              "      <td>Schweden</td>\n",
              "      <td>62.198468</td>\n",
              "      <td>14.896307</td>\n",
              "    </tr>\n",
              "    <tr>\n",
              "      <th>28</th>\n",
              "      <td>tr</td>\n",
              "      <td>TR</td>\n",
              "      <td>non-eu</td>\n",
              "      <td>Turkey</td>\n",
              "      <td>Turquie</td>\n",
              "      <td>Türkei</td>\n",
              "      <td>38.952942</td>\n",
              "      <td>35.439795</td>\n",
              "    </tr>\n",
              "    <tr>\n",
              "      <th>29</th>\n",
              "      <td>uk</td>\n",
              "      <td>GB</td>\n",
              "      <td>eu</td>\n",
              "      <td>United Kingdom</td>\n",
              "      <td>Royaume-Uni</td>\n",
              "      <td>Vereinigtes Königreich</td>\n",
              "      <td>54.315447</td>\n",
              "      <td>-2.232612</td>\n",
              "    </tr>\n",
              "  </tbody>\n",
              "</table>\n",
              "</div>"
            ],
            "text/plain": [
              "   country google_country_code  ...   latitude  longitude\n",
              "0       at                  AT  ...  47.696554  13.345980\n",
              "1       be                  BE  ...  50.501045   4.476674\n",
              "2       bg                  BG  ...  42.725674  25.482322\n",
              "3       hr                  HR  ...  44.746643  15.340844\n",
              "4       cy                  CY  ...  35.129141  33.428682\n",
              "5       cz                  CZ  ...  49.803531  15.474998\n",
              "6       dk                  DK  ...  55.939684   9.516689\n",
              "7       ee                  EE  ...  58.592469  25.806950\n",
              "8       fi                  FI  ...  64.950159  26.067564\n",
              "9       fr                  FR  ...  46.710994   1.718561\n",
              "10      de                  DE  ...  51.163825  10.454048\n",
              "11      gr                  GR  ...  39.698467  21.577256\n",
              "12      hu                  HU  ...  47.161163  19.504265\n",
              "13      ie                  IE  ...  53.415260  -8.239122\n",
              "14      it                  IT  ...  42.504191  12.573787\n",
              "15      lv                  LV  ...  56.880117  24.606555\n",
              "16      lt                  LT  ...  55.173687  23.943168\n",
              "17      lu                  LU  ...  49.815319   6.133352\n",
              "18      mt                  MT  ...  35.902422  14.447461\n",
              "19      nl                  NL  ...  52.108118   5.330198\n",
              "20      no                  NO  ...  64.556460  12.665766\n",
              "21      pl                  PL  ...  51.918907  19.134334\n",
              "22      pt                  PT  ...  39.558069  -7.844941\n",
              "23      ro                  RO  ...  45.942611  24.990152\n",
              "24      sk                  SK  ...  48.672644  19.700032\n",
              "25      si                  SI  ...  46.149259  14.986617\n",
              "26      es                  ES  ...  39.895013  -2.988296\n",
              "27      se                  SE  ...  62.198468  14.896307\n",
              "28      tr                  TR  ...  38.952942  35.439795\n",
              "29      uk                  GB  ...  54.315447  -2.232612\n",
              "\n",
              "[30 rows x 8 columns]"
            ]
          },
          "metadata": {
            "tags": []
          },
          "execution_count": 47
        }
      ]
    },
    {
      "cell_type": "markdown",
      "metadata": {
        "id": "mQt4MBRzDYEz"
      },
      "source": [
        "This file has lots of useful information. It even has the country names is three different languages.\n",
        "\n",
        "Because the data we need is stored in two separate files, we'll want to merge the data somehow. Let's determine which column we can use to join this data. `country` looks like a good option. However, we don't need all of the columns in the `countries` `DataFrame`. To select certain columns, we use the name bracket notation we used to reorder the columns."
      ]
    },
    {
      "cell_type": "code",
      "metadata": {
        "id": "H0-fb0mYDbhz"
      },
      "source": [
        "country_names = countries[['country', 'country_group', 'name_en']]\n"
      ],
      "execution_count": 48,
      "outputs": []
    },
    {
      "cell_type": "code",
      "metadata": {
        "id": "GMffZnQ_Do4U",
        "colab": {
          "base_uri": "https://localhost:8080/",
          "height": 343
        },
        "outputId": "d3f5bbfe-eccc-40c0-a3bc-1a70a18f8d81"
      },
      "source": [
        "country_names.head(10)"
      ],
      "execution_count": 49,
      "outputs": [
        {
          "output_type": "execute_result",
          "data": {
            "text/html": [
              "<div>\n",
              "<style scoped>\n",
              "    .dataframe tbody tr th:only-of-type {\n",
              "        vertical-align: middle;\n",
              "    }\n",
              "\n",
              "    .dataframe tbody tr th {\n",
              "        vertical-align: top;\n",
              "    }\n",
              "\n",
              "    .dataframe thead th {\n",
              "        text-align: right;\n",
              "    }\n",
              "</style>\n",
              "<table border=\"1\" class=\"dataframe\">\n",
              "  <thead>\n",
              "    <tr style=\"text-align: right;\">\n",
              "      <th></th>\n",
              "      <th>country</th>\n",
              "      <th>country_group</th>\n",
              "      <th>name_en</th>\n",
              "    </tr>\n",
              "  </thead>\n",
              "  <tbody>\n",
              "    <tr>\n",
              "      <th>0</th>\n",
              "      <td>at</td>\n",
              "      <td>eu</td>\n",
              "      <td>Austria</td>\n",
              "    </tr>\n",
              "    <tr>\n",
              "      <th>1</th>\n",
              "      <td>be</td>\n",
              "      <td>eu</td>\n",
              "      <td>Belgium</td>\n",
              "    </tr>\n",
              "    <tr>\n",
              "      <th>2</th>\n",
              "      <td>bg</td>\n",
              "      <td>eu</td>\n",
              "      <td>Bulgaria</td>\n",
              "    </tr>\n",
              "    <tr>\n",
              "      <th>3</th>\n",
              "      <td>hr</td>\n",
              "      <td>non-eu</td>\n",
              "      <td>Croatia</td>\n",
              "    </tr>\n",
              "    <tr>\n",
              "      <th>4</th>\n",
              "      <td>cy</td>\n",
              "      <td>eu</td>\n",
              "      <td>Cyprus</td>\n",
              "    </tr>\n",
              "    <tr>\n",
              "      <th>5</th>\n",
              "      <td>cz</td>\n",
              "      <td>eu</td>\n",
              "      <td>Czech Republic</td>\n",
              "    </tr>\n",
              "    <tr>\n",
              "      <th>6</th>\n",
              "      <td>dk</td>\n",
              "      <td>eu</td>\n",
              "      <td>Denmark</td>\n",
              "    </tr>\n",
              "    <tr>\n",
              "      <th>7</th>\n",
              "      <td>ee</td>\n",
              "      <td>eu</td>\n",
              "      <td>Estonia</td>\n",
              "    </tr>\n",
              "    <tr>\n",
              "      <th>8</th>\n",
              "      <td>fi</td>\n",
              "      <td>eu</td>\n",
              "      <td>Finland</td>\n",
              "    </tr>\n",
              "    <tr>\n",
              "      <th>9</th>\n",
              "      <td>fr</td>\n",
              "      <td>eu</td>\n",
              "      <td>France</td>\n",
              "    </tr>\n",
              "  </tbody>\n",
              "</table>\n",
              "</div>"
            ],
            "text/plain": [
              "  country country_group         name_en\n",
              "0      at            eu         Austria\n",
              "1      be            eu         Belgium\n",
              "2      bg            eu        Bulgaria\n",
              "3      hr        non-eu         Croatia\n",
              "4      cy            eu          Cyprus\n",
              "5      cz            eu  Czech Republic\n",
              "6      dk            eu         Denmark\n",
              "7      ee            eu         Estonia\n",
              "8      fi            eu         Finland\n",
              "9      fr            eu          France"
            ]
          },
          "metadata": {
            "tags": []
          },
          "execution_count": 49
        }
      ]
    },
    {
      "cell_type": "markdown",
      "metadata": {
        "id": "D5YQHmIVDn7p"
      },
      "source": [
        "`pandas` includes an easy-to-use merge function. Let's use it to **merge the two `DataFrame`s on country code.**"
      ]
    },
    {
      "cell_type": "code",
      "metadata": {
        "id": "xyzXEHbgDxJ2",
        "colab": {
          "base_uri": "https://localhost:8080/",
          "height": 506
        },
        "outputId": "d06b9189-6dc2-49c8-ab40-34c0034974f1"
      },
      "source": [
        "unemployment = pd.merge(unemployment, country_names, on='country')\r\n",
        "unemployment"
      ],
      "execution_count": 51,
      "outputs": [
        {
          "output_type": "execute_result",
          "data": {
            "text/html": [
              "<div>\n",
              "<style scoped>\n",
              "    .dataframe tbody tr th:only-of-type {\n",
              "        vertical-align: middle;\n",
              "    }\n",
              "\n",
              "    .dataframe tbody tr th {\n",
              "        vertical-align: top;\n",
              "    }\n",
              "\n",
              "    .dataframe thead th {\n",
              "        text-align: right;\n",
              "    }\n",
              "</style>\n",
              "<table border=\"1\" class=\"dataframe\">\n",
              "  <thead>\n",
              "    <tr style=\"text-align: right;\">\n",
              "      <th></th>\n",
              "      <th>country</th>\n",
              "      <th>seasonality</th>\n",
              "      <th>year_month</th>\n",
              "      <th>year</th>\n",
              "      <th>month</th>\n",
              "      <th>unemployment</th>\n",
              "      <th>unemployment_rate</th>\n",
              "      <th>country_group_x</th>\n",
              "      <th>name_en_x</th>\n",
              "      <th>country_group_y</th>\n",
              "      <th>name_en_y</th>\n",
              "      <th>country_group</th>\n",
              "      <th>name_en</th>\n",
              "    </tr>\n",
              "  </thead>\n",
              "  <tbody>\n",
              "    <tr>\n",
              "      <th>0</th>\n",
              "      <td>at</td>\n",
              "      <td>nsa</td>\n",
              "      <td>1993.01</td>\n",
              "      <td>1993</td>\n",
              "      <td>1</td>\n",
              "      <td>171000</td>\n",
              "      <td>4.5</td>\n",
              "      <td>eu</td>\n",
              "      <td>Austria</td>\n",
              "      <td>eu</td>\n",
              "      <td>Austria</td>\n",
              "      <td>eu</td>\n",
              "      <td>Austria</td>\n",
              "    </tr>\n",
              "    <tr>\n",
              "      <th>1</th>\n",
              "      <td>at</td>\n",
              "      <td>nsa</td>\n",
              "      <td>1993.02</td>\n",
              "      <td>1993</td>\n",
              "      <td>2</td>\n",
              "      <td>175000</td>\n",
              "      <td>4.6</td>\n",
              "      <td>eu</td>\n",
              "      <td>Austria</td>\n",
              "      <td>eu</td>\n",
              "      <td>Austria</td>\n",
              "      <td>eu</td>\n",
              "      <td>Austria</td>\n",
              "    </tr>\n",
              "    <tr>\n",
              "      <th>2</th>\n",
              "      <td>at</td>\n",
              "      <td>nsa</td>\n",
              "      <td>1993.03</td>\n",
              "      <td>1993</td>\n",
              "      <td>3</td>\n",
              "      <td>166000</td>\n",
              "      <td>4.4</td>\n",
              "      <td>eu</td>\n",
              "      <td>Austria</td>\n",
              "      <td>eu</td>\n",
              "      <td>Austria</td>\n",
              "      <td>eu</td>\n",
              "      <td>Austria</td>\n",
              "    </tr>\n",
              "    <tr>\n",
              "      <th>3</th>\n",
              "      <td>at</td>\n",
              "      <td>nsa</td>\n",
              "      <td>1993.04</td>\n",
              "      <td>1993</td>\n",
              "      <td>4</td>\n",
              "      <td>157000</td>\n",
              "      <td>4.1</td>\n",
              "      <td>eu</td>\n",
              "      <td>Austria</td>\n",
              "      <td>eu</td>\n",
              "      <td>Austria</td>\n",
              "      <td>eu</td>\n",
              "      <td>Austria</td>\n",
              "    </tr>\n",
              "    <tr>\n",
              "      <th>4</th>\n",
              "      <td>at</td>\n",
              "      <td>nsa</td>\n",
              "      <td>1993.05</td>\n",
              "      <td>1993</td>\n",
              "      <td>5</td>\n",
              "      <td>147000</td>\n",
              "      <td>3.9</td>\n",
              "      <td>eu</td>\n",
              "      <td>Austria</td>\n",
              "      <td>eu</td>\n",
              "      <td>Austria</td>\n",
              "      <td>eu</td>\n",
              "      <td>Austria</td>\n",
              "    </tr>\n",
              "    <tr>\n",
              "      <th>...</th>\n",
              "      <td>...</td>\n",
              "      <td>...</td>\n",
              "      <td>...</td>\n",
              "      <td>...</td>\n",
              "      <td>...</td>\n",
              "      <td>...</td>\n",
              "      <td>...</td>\n",
              "      <td>...</td>\n",
              "      <td>...</td>\n",
              "      <td>...</td>\n",
              "      <td>...</td>\n",
              "      <td>...</td>\n",
              "      <td>...</td>\n",
              "    </tr>\n",
              "    <tr>\n",
              "      <th>20791</th>\n",
              "      <td>uk</td>\n",
              "      <td>trend</td>\n",
              "      <td>2010.06</td>\n",
              "      <td>2010</td>\n",
              "      <td>6</td>\n",
              "      <td>2429000</td>\n",
              "      <td>7.7</td>\n",
              "      <td>eu</td>\n",
              "      <td>United Kingdom</td>\n",
              "      <td>eu</td>\n",
              "      <td>United Kingdom</td>\n",
              "      <td>eu</td>\n",
              "      <td>United Kingdom</td>\n",
              "    </tr>\n",
              "    <tr>\n",
              "      <th>20792</th>\n",
              "      <td>uk</td>\n",
              "      <td>trend</td>\n",
              "      <td>2010.07</td>\n",
              "      <td>2010</td>\n",
              "      <td>7</td>\n",
              "      <td>2422000</td>\n",
              "      <td>7.7</td>\n",
              "      <td>eu</td>\n",
              "      <td>United Kingdom</td>\n",
              "      <td>eu</td>\n",
              "      <td>United Kingdom</td>\n",
              "      <td>eu</td>\n",
              "      <td>United Kingdom</td>\n",
              "    </tr>\n",
              "    <tr>\n",
              "      <th>20793</th>\n",
              "      <td>uk</td>\n",
              "      <td>trend</td>\n",
              "      <td>2010.08</td>\n",
              "      <td>2010</td>\n",
              "      <td>8</td>\n",
              "      <td>2429000</td>\n",
              "      <td>7.7</td>\n",
              "      <td>eu</td>\n",
              "      <td>United Kingdom</td>\n",
              "      <td>eu</td>\n",
              "      <td>United Kingdom</td>\n",
              "      <td>eu</td>\n",
              "      <td>United Kingdom</td>\n",
              "    </tr>\n",
              "    <tr>\n",
              "      <th>20794</th>\n",
              "      <td>uk</td>\n",
              "      <td>trend</td>\n",
              "      <td>2010.09</td>\n",
              "      <td>2010</td>\n",
              "      <td>9</td>\n",
              "      <td>2447000</td>\n",
              "      <td>7.8</td>\n",
              "      <td>eu</td>\n",
              "      <td>United Kingdom</td>\n",
              "      <td>eu</td>\n",
              "      <td>United Kingdom</td>\n",
              "      <td>eu</td>\n",
              "      <td>United Kingdom</td>\n",
              "    </tr>\n",
              "    <tr>\n",
              "      <th>20795</th>\n",
              "      <td>uk</td>\n",
              "      <td>trend</td>\n",
              "      <td>2010.10</td>\n",
              "      <td>2010</td>\n",
              "      <td>10</td>\n",
              "      <td>2455000</td>\n",
              "      <td>7.8</td>\n",
              "      <td>eu</td>\n",
              "      <td>United Kingdom</td>\n",
              "      <td>eu</td>\n",
              "      <td>United Kingdom</td>\n",
              "      <td>eu</td>\n",
              "      <td>United Kingdom</td>\n",
              "    </tr>\n",
              "  </tbody>\n",
              "</table>\n",
              "<p>20796 rows × 13 columns</p>\n",
              "</div>"
            ],
            "text/plain": [
              "      country seasonality  ...  country_group         name_en\n",
              "0          at         nsa  ...             eu         Austria\n",
              "1          at         nsa  ...             eu         Austria\n",
              "2          at         nsa  ...             eu         Austria\n",
              "3          at         nsa  ...             eu         Austria\n",
              "4          at         nsa  ...             eu         Austria\n",
              "...       ...         ...  ...            ...             ...\n",
              "20791      uk       trend  ...             eu  United Kingdom\n",
              "20792      uk       trend  ...             eu  United Kingdom\n",
              "20793      uk       trend  ...             eu  United Kingdom\n",
              "20794      uk       trend  ...             eu  United Kingdom\n",
              "20795      uk       trend  ...             eu  United Kingdom\n",
              "\n",
              "[20796 rows x 13 columns]"
            ]
          },
          "metadata": {
            "tags": []
          },
          "execution_count": 51
        }
      ]
    },
    {
      "cell_type": "markdown",
      "metadata": {
        "id": "nNoJriBaG9Ul"
      },
      "source": [
        "Merging is often more complex than this example. If you want to merge on multiple columns, you can pass a list of column names to the `on` parameter.\n",
        "\n",
        "```\n",
        "pd.merge(first, second, on=['name', 'id'])\n",
        "```\n",
        "\n",
        "For more information on merging, check the [documentation](http://pandas.pydata.org/pandas-docs/stable/merging.html#database-style-dataframe-joining-merging).\n",
        "\n",
        "`pandas` also provides a `.merge()` method that can act on a `DataFrame`. You can read more about that [here](http://pandas.pydata.org/pandas-docs/stable/generated/pandas.DataFrame.merge.html)."
      ]
    },
    {
      "cell_type": "markdown",
      "metadata": {
        "id": "5gKyyvE2HKQW"
      },
      "source": [
        "### Challenge 4: Practicing Merging \n",
        "\n",
        "You may sometimes need to merge on columns with different names. To do so, use the `left_on` and `right_on` parameters, where the first listed `DataFrame` is the \"left\" one and the second is the \"right.\" It might look something this.\n",
        "\n",
        "```\n",
        "pd.merge(one, two, left_on='city', right_on='city_name')\n",
        "```\n",
        "\n",
        "Suppose wanted to merge `unemployment` with a new DataFrame called `country_codes`, where the abbreviation for each country is in the column \"c_code\":"
      ]
    },
    {
      "cell_type": "code",
      "metadata": {
        "colab": {
          "base_uri": "https://localhost:8080/",
          "height": 195
        },
        "id": "vUIGWgdDHXNx",
        "outputId": "fa1f14e5-4aa5-432d-d726-75077adc0aaf"
      },
      "source": [
        "country_codes = country_names.rename({\"country\":\"c_code\"}, axis=1).drop(\"country_group\", axis=1)\n",
        "country_codes.head()"
      ],
      "execution_count": 53,
      "outputs": [
        {
          "output_type": "execute_result",
          "data": {
            "text/html": [
              "<div>\n",
              "<style scoped>\n",
              "    .dataframe tbody tr th:only-of-type {\n",
              "        vertical-align: middle;\n",
              "    }\n",
              "\n",
              "    .dataframe tbody tr th {\n",
              "        vertical-align: top;\n",
              "    }\n",
              "\n",
              "    .dataframe thead th {\n",
              "        text-align: right;\n",
              "    }\n",
              "</style>\n",
              "<table border=\"1\" class=\"dataframe\">\n",
              "  <thead>\n",
              "    <tr style=\"text-align: right;\">\n",
              "      <th></th>\n",
              "      <th>c_code</th>\n",
              "      <th>name_en</th>\n",
              "    </tr>\n",
              "  </thead>\n",
              "  <tbody>\n",
              "    <tr>\n",
              "      <th>0</th>\n",
              "      <td>at</td>\n",
              "      <td>Austria</td>\n",
              "    </tr>\n",
              "    <tr>\n",
              "      <th>1</th>\n",
              "      <td>be</td>\n",
              "      <td>Belgium</td>\n",
              "    </tr>\n",
              "    <tr>\n",
              "      <th>2</th>\n",
              "      <td>bg</td>\n",
              "      <td>Bulgaria</td>\n",
              "    </tr>\n",
              "    <tr>\n",
              "      <th>3</th>\n",
              "      <td>hr</td>\n",
              "      <td>Croatia</td>\n",
              "    </tr>\n",
              "    <tr>\n",
              "      <th>4</th>\n",
              "      <td>cy</td>\n",
              "      <td>Cyprus</td>\n",
              "    </tr>\n",
              "  </tbody>\n",
              "</table>\n",
              "</div>"
            ],
            "text/plain": [
              "  c_code   name_en\n",
              "0     at   Austria\n",
              "1     be   Belgium\n",
              "2     bg  Bulgaria\n",
              "3     hr   Croatia\n",
              "4     cy    Cyprus"
            ]
          },
          "metadata": {
            "tags": []
          },
          "execution_count": 53
        }
      ]
    },
    {
      "cell_type": "markdown",
      "metadata": {
        "id": "JKNBdD2WHglf"
      },
      "source": [
        "Use `merge` to merge `unemployment` and `country_codes` on their country codes. Make sure to specify `left_on=` and `right_on=` in the call to `merge`!\n"
      ]
    },
    {
      "cell_type": "code",
      "metadata": {
        "id": "XyV7lCKoHil2",
        "colab": {
          "base_uri": "https://localhost:8080/",
          "height": 215
        },
        "outputId": "2266fc40-e4c5-47a4-b21b-e795bc7bc84c"
      },
      "source": [
        "# Use this cell to complete Challenge 4\r\n",
        "unemployment = pd.merge(unemployment, country_codes, left_on='country', right_on='c_code')\r\n",
        "unemployment.head()"
      ],
      "execution_count": 55,
      "outputs": [
        {
          "output_type": "execute_result",
          "data": {
            "text/html": [
              "<div>\n",
              "<style scoped>\n",
              "    .dataframe tbody tr th:only-of-type {\n",
              "        vertical-align: middle;\n",
              "    }\n",
              "\n",
              "    .dataframe tbody tr th {\n",
              "        vertical-align: top;\n",
              "    }\n",
              "\n",
              "    .dataframe thead th {\n",
              "        text-align: right;\n",
              "    }\n",
              "</style>\n",
              "<table border=\"1\" class=\"dataframe\">\n",
              "  <thead>\n",
              "    <tr style=\"text-align: right;\">\n",
              "      <th></th>\n",
              "      <th>country</th>\n",
              "      <th>seasonality</th>\n",
              "      <th>year_month</th>\n",
              "      <th>year</th>\n",
              "      <th>month</th>\n",
              "      <th>unemployment</th>\n",
              "      <th>unemployment_rate</th>\n",
              "      <th>country_group_x</th>\n",
              "      <th>name_en_x</th>\n",
              "      <th>country_group_y</th>\n",
              "      <th>name_en_y</th>\n",
              "      <th>country_group</th>\n",
              "      <th>name_en_x</th>\n",
              "      <th>c_code_x</th>\n",
              "      <th>name_en_y</th>\n",
              "      <th>c_code_y</th>\n",
              "      <th>name_en</th>\n",
              "    </tr>\n",
              "  </thead>\n",
              "  <tbody>\n",
              "    <tr>\n",
              "      <th>0</th>\n",
              "      <td>at</td>\n",
              "      <td>nsa</td>\n",
              "      <td>1993.01</td>\n",
              "      <td>1993</td>\n",
              "      <td>1</td>\n",
              "      <td>171000</td>\n",
              "      <td>4.5</td>\n",
              "      <td>eu</td>\n",
              "      <td>Austria</td>\n",
              "      <td>eu</td>\n",
              "      <td>Austria</td>\n",
              "      <td>eu</td>\n",
              "      <td>Austria</td>\n",
              "      <td>at</td>\n",
              "      <td>Austria</td>\n",
              "      <td>at</td>\n",
              "      <td>Austria</td>\n",
              "    </tr>\n",
              "    <tr>\n",
              "      <th>1</th>\n",
              "      <td>at</td>\n",
              "      <td>nsa</td>\n",
              "      <td>1993.02</td>\n",
              "      <td>1993</td>\n",
              "      <td>2</td>\n",
              "      <td>175000</td>\n",
              "      <td>4.6</td>\n",
              "      <td>eu</td>\n",
              "      <td>Austria</td>\n",
              "      <td>eu</td>\n",
              "      <td>Austria</td>\n",
              "      <td>eu</td>\n",
              "      <td>Austria</td>\n",
              "      <td>at</td>\n",
              "      <td>Austria</td>\n",
              "      <td>at</td>\n",
              "      <td>Austria</td>\n",
              "    </tr>\n",
              "    <tr>\n",
              "      <th>2</th>\n",
              "      <td>at</td>\n",
              "      <td>nsa</td>\n",
              "      <td>1993.03</td>\n",
              "      <td>1993</td>\n",
              "      <td>3</td>\n",
              "      <td>166000</td>\n",
              "      <td>4.4</td>\n",
              "      <td>eu</td>\n",
              "      <td>Austria</td>\n",
              "      <td>eu</td>\n",
              "      <td>Austria</td>\n",
              "      <td>eu</td>\n",
              "      <td>Austria</td>\n",
              "      <td>at</td>\n",
              "      <td>Austria</td>\n",
              "      <td>at</td>\n",
              "      <td>Austria</td>\n",
              "    </tr>\n",
              "    <tr>\n",
              "      <th>3</th>\n",
              "      <td>at</td>\n",
              "      <td>nsa</td>\n",
              "      <td>1993.04</td>\n",
              "      <td>1993</td>\n",
              "      <td>4</td>\n",
              "      <td>157000</td>\n",
              "      <td>4.1</td>\n",
              "      <td>eu</td>\n",
              "      <td>Austria</td>\n",
              "      <td>eu</td>\n",
              "      <td>Austria</td>\n",
              "      <td>eu</td>\n",
              "      <td>Austria</td>\n",
              "      <td>at</td>\n",
              "      <td>Austria</td>\n",
              "      <td>at</td>\n",
              "      <td>Austria</td>\n",
              "    </tr>\n",
              "    <tr>\n",
              "      <th>4</th>\n",
              "      <td>at</td>\n",
              "      <td>nsa</td>\n",
              "      <td>1993.05</td>\n",
              "      <td>1993</td>\n",
              "      <td>5</td>\n",
              "      <td>147000</td>\n",
              "      <td>3.9</td>\n",
              "      <td>eu</td>\n",
              "      <td>Austria</td>\n",
              "      <td>eu</td>\n",
              "      <td>Austria</td>\n",
              "      <td>eu</td>\n",
              "      <td>Austria</td>\n",
              "      <td>at</td>\n",
              "      <td>Austria</td>\n",
              "      <td>at</td>\n",
              "      <td>Austria</td>\n",
              "    </tr>\n",
              "  </tbody>\n",
              "</table>\n",
              "</div>"
            ],
            "text/plain": [
              "  country seasonality  year_month  year  ...  c_code_x  name_en_y  c_code_y  name_en\n",
              "0      at         nsa     1993.01  1993  ...        at    Austria        at  Austria\n",
              "1      at         nsa     1993.02  1993  ...        at    Austria        at  Austria\n",
              "2      at         nsa     1993.03  1993  ...        at    Austria        at  Austria\n",
              "3      at         nsa     1993.04  1993  ...        at    Austria        at  Austria\n",
              "4      at         nsa     1993.05  1993  ...        at    Austria        at  Austria\n",
              "\n",
              "[5 rows x 17 columns]"
            ]
          },
          "metadata": {
            "tags": []
          },
          "execution_count": 55
        }
      ]
    },
    {
      "cell_type": "markdown",
      "metadata": {
        "id": "9u-EuR4DHq_Q"
      },
      "source": [
        "## 5. Calculating Unique and Missing Values"
      ]
    },
    {
      "cell_type": "code",
      "metadata": {
        "id": "lG3dpRMDH3bx",
        "colab": {
          "base_uri": "https://localhost:8080/",
          "height": 215
        },
        "outputId": "33d759e5-d588-434a-f4f0-04c6056d9676"
      },
      "source": [
        "unemployment.head()"
      ],
      "execution_count": 56,
      "outputs": [
        {
          "output_type": "execute_result",
          "data": {
            "text/html": [
              "<div>\n",
              "<style scoped>\n",
              "    .dataframe tbody tr th:only-of-type {\n",
              "        vertical-align: middle;\n",
              "    }\n",
              "\n",
              "    .dataframe tbody tr th {\n",
              "        vertical-align: top;\n",
              "    }\n",
              "\n",
              "    .dataframe thead th {\n",
              "        text-align: right;\n",
              "    }\n",
              "</style>\n",
              "<table border=\"1\" class=\"dataframe\">\n",
              "  <thead>\n",
              "    <tr style=\"text-align: right;\">\n",
              "      <th></th>\n",
              "      <th>country</th>\n",
              "      <th>seasonality</th>\n",
              "      <th>year_month</th>\n",
              "      <th>year</th>\n",
              "      <th>month</th>\n",
              "      <th>unemployment</th>\n",
              "      <th>unemployment_rate</th>\n",
              "      <th>country_group_x</th>\n",
              "      <th>name_en_x</th>\n",
              "      <th>country_group_y</th>\n",
              "      <th>name_en_y</th>\n",
              "      <th>country_group</th>\n",
              "      <th>name_en_x</th>\n",
              "      <th>c_code_x</th>\n",
              "      <th>name_en_y</th>\n",
              "      <th>c_code_y</th>\n",
              "      <th>name_en</th>\n",
              "    </tr>\n",
              "  </thead>\n",
              "  <tbody>\n",
              "    <tr>\n",
              "      <th>0</th>\n",
              "      <td>at</td>\n",
              "      <td>nsa</td>\n",
              "      <td>1993.01</td>\n",
              "      <td>1993</td>\n",
              "      <td>1</td>\n",
              "      <td>171000</td>\n",
              "      <td>4.5</td>\n",
              "      <td>eu</td>\n",
              "      <td>Austria</td>\n",
              "      <td>eu</td>\n",
              "      <td>Austria</td>\n",
              "      <td>eu</td>\n",
              "      <td>Austria</td>\n",
              "      <td>at</td>\n",
              "      <td>Austria</td>\n",
              "      <td>at</td>\n",
              "      <td>Austria</td>\n",
              "    </tr>\n",
              "    <tr>\n",
              "      <th>1</th>\n",
              "      <td>at</td>\n",
              "      <td>nsa</td>\n",
              "      <td>1993.02</td>\n",
              "      <td>1993</td>\n",
              "      <td>2</td>\n",
              "      <td>175000</td>\n",
              "      <td>4.6</td>\n",
              "      <td>eu</td>\n",
              "      <td>Austria</td>\n",
              "      <td>eu</td>\n",
              "      <td>Austria</td>\n",
              "      <td>eu</td>\n",
              "      <td>Austria</td>\n",
              "      <td>at</td>\n",
              "      <td>Austria</td>\n",
              "      <td>at</td>\n",
              "      <td>Austria</td>\n",
              "    </tr>\n",
              "    <tr>\n",
              "      <th>2</th>\n",
              "      <td>at</td>\n",
              "      <td>nsa</td>\n",
              "      <td>1993.03</td>\n",
              "      <td>1993</td>\n",
              "      <td>3</td>\n",
              "      <td>166000</td>\n",
              "      <td>4.4</td>\n",
              "      <td>eu</td>\n",
              "      <td>Austria</td>\n",
              "      <td>eu</td>\n",
              "      <td>Austria</td>\n",
              "      <td>eu</td>\n",
              "      <td>Austria</td>\n",
              "      <td>at</td>\n",
              "      <td>Austria</td>\n",
              "      <td>at</td>\n",
              "      <td>Austria</td>\n",
              "    </tr>\n",
              "    <tr>\n",
              "      <th>3</th>\n",
              "      <td>at</td>\n",
              "      <td>nsa</td>\n",
              "      <td>1993.04</td>\n",
              "      <td>1993</td>\n",
              "      <td>4</td>\n",
              "      <td>157000</td>\n",
              "      <td>4.1</td>\n",
              "      <td>eu</td>\n",
              "      <td>Austria</td>\n",
              "      <td>eu</td>\n",
              "      <td>Austria</td>\n",
              "      <td>eu</td>\n",
              "      <td>Austria</td>\n",
              "      <td>at</td>\n",
              "      <td>Austria</td>\n",
              "      <td>at</td>\n",
              "      <td>Austria</td>\n",
              "    </tr>\n",
              "    <tr>\n",
              "      <th>4</th>\n",
              "      <td>at</td>\n",
              "      <td>nsa</td>\n",
              "      <td>1993.05</td>\n",
              "      <td>1993</td>\n",
              "      <td>5</td>\n",
              "      <td>147000</td>\n",
              "      <td>3.9</td>\n",
              "      <td>eu</td>\n",
              "      <td>Austria</td>\n",
              "      <td>eu</td>\n",
              "      <td>Austria</td>\n",
              "      <td>eu</td>\n",
              "      <td>Austria</td>\n",
              "      <td>at</td>\n",
              "      <td>Austria</td>\n",
              "      <td>at</td>\n",
              "      <td>Austria</td>\n",
              "    </tr>\n",
              "  </tbody>\n",
              "</table>\n",
              "</div>"
            ],
            "text/plain": [
              "  country seasonality  year_month  year  ...  c_code_x  name_en_y  c_code_y  name_en\n",
              "0      at         nsa     1993.01  1993  ...        at    Austria        at  Austria\n",
              "1      at         nsa     1993.02  1993  ...        at    Austria        at  Austria\n",
              "2      at         nsa     1993.03  1993  ...        at    Austria        at  Austria\n",
              "3      at         nsa     1993.04  1993  ...        at    Austria        at  Austria\n",
              "4      at         nsa     1993.05  1993  ...        at    Austria        at  Austria\n",
              "\n",
              "[5 rows x 17 columns]"
            ]
          },
          "metadata": {
            "tags": []
          },
          "execution_count": 56
        }
      ]
    },
    {
      "cell_type": "markdown",
      "metadata": {
        "id": "7ukvIxZPH9gq"
      },
      "source": [
        "That's better. We now know that the abbreviation \"at\" corresponds to Austria. We might be curious to check what countries we have data for. The `Series` object includes a `.unique()` method. We'll use this to check the countries. We can select the name either using bracket or dot notation. (While we suggested using brackets above, it *is* sometimes easier to use dot notation. Just be careful.)"
      ]
    },
    {
      "cell_type": "code",
      "metadata": {
        "id": "TuEzA4QVIFiD",
        "colab": {
          "base_uri": "https://localhost:8080/"
        },
        "outputId": "85a23e12-1a1e-4751-8843-0e7744bf30a5"
      },
      "source": [
        "unemployment.name_en.unique()"
      ],
      "execution_count": 57,
      "outputs": [
        {
          "output_type": "execute_result",
          "data": {
            "text/plain": [
              "array(['Austria', 'Belgium', 'Bulgaria', 'Cyprus', 'Czech Republic',\n",
              "       'Germany (including  former GDR from 1991)', 'Denmark', 'Estonia',\n",
              "       'Spain', 'Finland', 'France', 'Greece', 'Croatia', 'Hungary',\n",
              "       'Ireland', 'Italy', 'Lithuania', 'Luxembourg', 'Latvia', 'Malta',\n",
              "       'Netherlands', 'Norway', 'Poland', 'Portugal', 'Romania', 'Sweden',\n",
              "       'Slovenia', 'Slovakia', 'Turkey', 'United Kingdom'], dtype=object)"
            ]
          },
          "metadata": {
            "tags": []
          },
          "execution_count": 57
        }
      ]
    },
    {
      "cell_type": "markdown",
      "metadata": {
        "id": "xJ-4nLjWI6c9"
      },
      "source": [
        "It might be more interesting to know **how many observations** we actually have. `pandas` has a `Series` method called `.value_counts()` that returns the counts for the unique values in the `Series`."
      ]
    },
    {
      "cell_type": "code",
      "metadata": {
        "id": "jaDaEWQeI_MG",
        "colab": {
          "base_uri": "https://localhost:8080/"
        },
        "outputId": "bc3a674c-22fc-4cff-e645-4d95db8eebe9"
      },
      "source": [
        "unemployment['name_en'].value_counts().sort_index()"
      ],
      "execution_count": 60,
      "outputs": [
        {
          "output_type": "execute_result",
          "data": {
            "text/plain": [
              "Austria                                       648\n",
              "Belgium                                      1008\n",
              "Bulgaria                                      576\n",
              "Croatia                                       324\n",
              "Cyprus                                        396\n",
              "Czech Republic                                468\n",
              "Denmark                                      1008\n",
              "Estonia                                       387\n",
              "Finland                                       828\n",
              "France                                       1008\n",
              "Germany (including  former GDR from 1991)     504\n",
              "Greece                                        450\n",
              "Hungary                                       576\n",
              "Ireland                                      1008\n",
              "Italy                                         924\n",
              "Latvia                                        459\n",
              "Lithuania                                     459\n",
              "Luxembourg                                   1008\n",
              "Malta                                         576\n",
              "Netherlands                                  1008\n",
              "Norway                                        786\n",
              "Poland                                        576\n",
              "Portugal                                     1008\n",
              "Romania                                       423\n",
              "Slovakia                                      576\n",
              "Slovenia                                      576\n",
              "Spain                                        1008\n",
              "Sweden                                       1008\n",
              "Turkey                                        210\n",
              "United Kingdom                               1002\n",
              "Name: name_en, dtype: int64"
            ]
          },
          "metadata": {
            "tags": []
          },
          "execution_count": 60
        }
      ]
    },
    {
      "cell_type": "markdown",
      "metadata": {
        "id": "3I-8khygJFDE"
      },
      "source": [
        "This will be useful for our analysis. The maximum number of observations for a given country for this time period is 1,008 observations. We'll note that certain countries, such as Turkey, have far less data.\n",
        "\n",
        "How about finding the **date range** for this data set? Let's look at the minimum and maximum years."
      ]
    },
    {
      "cell_type": "code",
      "metadata": {
        "id": "8Wz0BIhEJEP0",
        "colab": {
          "base_uri": "https://localhost:8080/"
        },
        "outputId": "f100e001-0954-4d23-93d1-e0b8a6968acf"
      },
      "source": [
        "unemployment['year'].min(), unemployment['year'].max()"
      ],
      "execution_count": 61,
      "outputs": [
        {
          "output_type": "execute_result",
          "data": {
            "text/plain": [
              "(1983, 2010)"
            ]
          },
          "metadata": {
            "tags": []
          },
          "execution_count": 61
        }
      ]
    },
    {
      "cell_type": "markdown",
      "metadata": {
        "id": "V6xie_7xJQR-"
      },
      "source": [
        "Next, we should pause for a moment and think about what data we really care about. For our purposes, the variable of interest is `unemployment_rate`. The number of observations by country only reflect the number of instances of each country name in the dataset. It is possible, maybe even expected, to have some missing data within those instances. Let's find out **how many unemployment rate values are missing.**"
      ]
    },
    {
      "cell_type": "code",
      "metadata": {
        "id": "IOyrwC5uJgIV",
        "colab": {
          "base_uri": "https://localhost:8080/"
        },
        "outputId": "cc4eb90a-bee1-460f-efec-911e076880c1"
      },
      "source": [
        "unemployment['unemployment_rate'].isnull().sum()"
      ],
      "execution_count": 64,
      "outputs": [
        {
          "output_type": "execute_result",
          "data": {
            "text/plain": [
              "945"
            ]
          },
          "metadata": {
            "tags": []
          },
          "execution_count": 64
        }
      ]
    },
    {
      "cell_type": "markdown",
      "metadata": {
        "id": "eFhXI8S7JjQi"
      },
      "source": [
        "The `.isnull()` method returns a corresponding boolean value for each entry in the unemployment rate `Series`. In Python `True` is equivalent to 1 and `False` is equivalent to 0. Thus, when we add the result (with `.sum()`), we get a count for the *total* number of missing values."
      ]
    },
    {
      "cell_type": "markdown",
      "metadata": {
        "id": "82SNLHMzJn0c"
      },
      "source": [
        "### Challenge 5: Exploring unemployment rates\n",
        "\n",
        "What are the minimum and maximum unemployment rates in our data set? Which unemployment rates are most and least common?\n",
        "\n",
        "Hint: look at where we found the minimum and maximum years for a hint to the first question, and use `value_counts` for the second."
      ]
    },
    {
      "cell_type": "code",
      "metadata": {
        "id": "oxIzviryJsgQ",
        "colab": {
          "base_uri": "https://localhost:8080/"
        },
        "outputId": "8966f537-b1d0-44ac-826d-fae6f285fbc0"
      },
      "source": [
        "# using this cell to complete challenge 5\r\n",
        "unemployment.unemployment_rate.max(), unemployment.unemployment_rate.min()\r\n"
      ],
      "execution_count": 74,
      "outputs": [
        {
          "output_type": "execute_result",
          "data": {
            "text/plain": [
              "(20.9, 1.1)"
            ]
          },
          "metadata": {
            "tags": []
          },
          "execution_count": 74
        }
      ]
    },
    {
      "cell_type": "code",
      "metadata": {
        "colab": {
          "base_uri": "https://localhost:8080/"
        },
        "id": "z6qu7EcylonJ",
        "outputId": "09a9e4f2-533e-4843-a4c1-3bcf9dff5d80"
      },
      "source": [
        "unemployment.unemployment_rate.value_counts()"
      ],
      "execution_count": 73,
      "outputs": [
        {
          "output_type": "execute_result",
          "data": {
            "text/plain": [
              "7.2     305\n",
              "7.1     290\n",
              "7.4     285\n",
              "7.3     271\n",
              "7.8     255\n",
              "       ... \n",
              "1.3       4\n",
              "20.5      3\n",
              "1.1       2\n",
              "20.7      2\n",
              "20.9      1\n",
              "Name: unemployment_rate, Length: 197, dtype: int64"
            ]
          },
          "metadata": {
            "tags": []
          },
          "execution_count": 73
        }
      ]
    },
    {
      "cell_type": "markdown",
      "metadata": {
        "id": "tN2uynyQUMK5"
      },
      "source": [
        "## 6. GroupBy"
      ]
    },
    {
      "cell_type": "markdown",
      "metadata": {
        "id": "4OcDdm-uUMK6"
      },
      "source": [
        "\n",
        "What if we'd like to know how many missing values exist at the *country* level? We can take the main part of what we had above and create a new column in the `DataFrame`."
      ]
    },
    {
      "cell_type": "code",
      "metadata": {
        "id": "ICKqV3X4UMK7"
      },
      "source": [
        "unemployment['unemployment_rate_null'] = unemployment['unemployment_rate'].isnull()"
      ],
      "execution_count": null,
      "outputs": []
    },
    {
      "cell_type": "markdown",
      "metadata": {
        "id": "XWpB1fiOUMK8"
      },
      "source": [
        "To count the **number of missing values for each country,** we introduce the `.groupby()` method."
      ]
    },
    {
      "cell_type": "code",
      "metadata": {
        "id": "3wkdEjmIUMK9"
      },
      "source": [
        "unemployment.groupby('name_en')['unemployment_rate_null'].sum()"
      ],
      "execution_count": null,
      "outputs": []
    },
    {
      "cell_type": "markdown",
      "metadata": {
        "id": "3cjMMeTZUMK-"
      },
      "source": [
        "Let's explain what just happened. We start with our `DataFrame`. We tell `pandas` that we want to group the data by country name&mdash;that's what goes in the parentheses. Next, we need to tell it what column we'd like to perform the `.sum()` operation on. In this case, it's the indicator for whether or not the unemployment rate was missing.\n",
        "\n",
        "As we saw above, the number of records for each country differs. We might, then, want to have the **missing values by country shown as percentages.** Let's create a new `DataFrame` for this.\n",
        "\n",
        "We'll take the code from above and set the `as_index` parameter to `False`."
      ]
    },
    {
      "cell_type": "code",
      "metadata": {
        "id": "qjz9Du7KUMK_"
      },
      "source": [
        "unemployment_rate = unemployment.groupby('name_en', as_index=False)['unemployment_rate_null'].sum()"
      ],
      "execution_count": null,
      "outputs": []
    },
    {
      "cell_type": "code",
      "metadata": {
        "id": "vA-FSah-UMLB"
      },
      "source": [
        "unemployment_rate.head(3)"
      ],
      "execution_count": null,
      "outputs": []
    },
    {
      "cell_type": "markdown",
      "metadata": {
        "id": "DRcJbX8zUMLE"
      },
      "source": [
        "`unemployment_rate` is a `DataFrame` with the information from cell 34, above. It's important to note that using `as_index=False` in `.groupby()` only works if the grouping column(s) are not the same as the columns on which we're performing the operation.\n",
        "\n",
        "Also, to group by several columns, simply pass in a list of column names to `.groupby()`.\n",
        "\n",
        "```\n",
        "unemployment.groupby(['name_en', 'seasonality'])['unemployment_rate'].mean()\n",
        "```\n",
        "\n",
        "Now, let's add the number of observations by country to the `DataFrame`."
      ]
    },
    {
      "cell_type": "code",
      "metadata": {
        "id": "UEIo5G4nUMLF"
      },
      "source": [
        "unemployment_rate['n_obs'] = unemployment.groupby('name_en')['name_en'].count().values"
      ],
      "execution_count": null,
      "outputs": []
    },
    {
      "cell_type": "markdown",
      "metadata": {
        "id": "J4OBZM2RUMLH"
      },
      "source": [
        "Here, we need to use the `values` attribute to get an array of the counts. Excluding `values` will result in a column full of `NaN`s. This is because the index in `unemployment.groupby('name_en')['name_en'].count()` is a list of the country names. When creating a new column, `pandas` tries to match on index. Recall that the default index values for a `DataFrame` is a sequence of integers.\n",
        "\n",
        "Because we know (or have noticed) that the `.groupby()` function returns the values in alphabetical order, we can simply set the new column to the list of values, as we have done. You can, however, be more explicit and create another `DataFrame` and merge on country name.\n",
        "\n",
        "Finally, let's create the column for the percentage of missing values."
      ]
    },
    {
      "cell_type": "code",
      "metadata": {
        "id": "6zKgDfZdUMLH"
      },
      "source": [
        "unemployment_rate['null_percentage'] = unemployment_rate['unemployment_rate_null'] / unemployment_rate['n_obs']"
      ],
      "execution_count": null,
      "outputs": []
    },
    {
      "cell_type": "code",
      "metadata": {
        "id": "PVCv_MZFUMLJ"
      },
      "source": [
        "unemployment_rate"
      ],
      "execution_count": null,
      "outputs": []
    },
    {
      "cell_type": "markdown",
      "metadata": {
        "id": "16k9_VIcUMLL"
      },
      "source": [
        "This is the second time we've called a `DataFrame` without something like `.head()`. Let's describe what it does. By default, `pandas` prints 60 rows. In this case, because there are only 30 countries, we see the entire `DataFrame`."
      ]
    },
    {
      "cell_type": "markdown",
      "metadata": {
        "id": "V2mY0aRhUMLM"
      },
      "source": [
        "### Challenge 6: GroupBy \n",
        "\n",
        "Find the average unemployment rate for European Union vs. non-European Union countries. \n",
        "\n",
        "1. use `groupby` to group on \"country_group\"\n",
        "2. select the \"unemployment_rate\" column\n",
        "3. use `.mean()` to get the average"
      ]
    },
    {
      "cell_type": "code",
      "metadata": {
        "id": "kQBwQvm8UMLO"
      },
      "source": [
        "# Use this cell to complete challenge 6"
      ],
      "execution_count": null,
      "outputs": []
    },
    {
      "cell_type": "markdown",
      "metadata": {
        "id": "tmgmwSlLUMLQ"
      },
      "source": [
        "## 7. Exporting A DataFrame to csv <a id=\"section7\"/>\n",
        "\n",
        "As we can see, Croatia has lots of missing data. This `DataFrame` contains useful information&mdash;things to consider&mdash;when analyzing the data.\n",
        "\n",
        "Suppose we wanted to save this as a .csv file. For this, we'd use the `.to_csv()` method."
      ]
    },
    {
      "cell_type": "code",
      "metadata": {
        "id": "ilF2n5GDUMLQ"
      },
      "source": [
        "unemployment_rate.to_csv('data/unemployment_missing.csv')"
      ],
      "execution_count": null,
      "outputs": []
    },
    {
      "cell_type": "markdown",
      "metadata": {
        "id": "LhcxNCZMUMLU"
      },
      "source": [
        "Let's look at our file."
      ]
    },
    {
      "cell_type": "code",
      "metadata": {
        "id": "BKXqtMVQUMLU"
      },
      "source": [
        "!head -5 data/unemployment_missing.csv"
      ],
      "execution_count": null,
      "outputs": []
    },
    {
      "cell_type": "markdown",
      "metadata": {
        "id": "PGFKzYLoUMLW"
      },
      "source": [
        "By default, this method writes the indices. We probably don't want that. Let's edit the code. Let's also be explicit about the type of delimiter we're interested in. (Values can be separated by pipes (`|`), semicolons (`;`), tabs (`\\t`), etc.)"
      ]
    },
    {
      "cell_type": "code",
      "metadata": {
        "id": "HgeaY4K5UMLW"
      },
      "source": [
        "unemployment_rate.to_csv('data/unemployment_missing.csv', index=False, sep=',')"
      ],
      "execution_count": null,
      "outputs": []
    },
    {
      "cell_type": "code",
      "metadata": {
        "id": "sXMHuyfZUMLY"
      },
      "source": [
        "!head -5 data/unemployment_missing.csv"
      ],
      "execution_count": null,
      "outputs": []
    },
    {
      "cell_type": "markdown",
      "metadata": {
        "id": "spYgKU9SUMLZ"
      },
      "source": [
        "Much better!\n",
        "\n",
        "Let's return to our main `DataFrame`. Now that we have the missing values information in `unemployment_rate`, we can **drop the last column** we added to `unemployment`."
      ]
    },
    {
      "cell_type": "code",
      "metadata": {
        "id": "upPuWjFYUMLa"
      },
      "source": [
        "unemployment.drop('unemployment_rate_null', axis=1, inplace=True)"
      ],
      "execution_count": null,
      "outputs": []
    },
    {
      "cell_type": "markdown",
      "metadata": {
        "id": "u3OhawlZUMLc"
      },
      "source": [
        "It's important to specify the `axis` parameter. `axis=1` refers to columns (`axis=0` refers to rows.) The parameter `inplace=True` simply modifies the actual `DataFrame` rather than returning a new `DataFrame`."
      ]
    },
    {
      "cell_type": "code",
      "metadata": {
        "id": "wwzs3t8KUMLd"
      },
      "source": [
        "unemployment.head()"
      ],
      "execution_count": null,
      "outputs": []
    },
    {
      "cell_type": "markdown",
      "metadata": {
        "id": "VjRci-nxUMLf"
      },
      "source": [
        "## 8. Dealing With Missing Values: Boolean Indexing <a id=\"section8\"/>\n",
        "\n",
        "Now that we know about the missing values, we have to deal with them. There are two main options:\n",
        "\n",
        "* Fill the missing values with some other values.\n",
        "* Do not use observations with missing values.\n",
        "    * Depending on the analysis, we may want to exclude entire countries.\n",
        "    \n",
        "Because countries with missing unemployment rate data have at least 36 missing values, which is too many to fill, we'll take the second approach and **exclude missing values** from our primary analyses.\n",
        "\n",
        "Instead of just getting rid of that data, it might make sense to store it in a separate `DataFrame`. This way, we could answer questions such as, \"do missing values occur during certain months (or years) more frequently?\" With this, we will introduce the concept of *boolean indexing* for filtering data."
      ]
    },
    {
      "cell_type": "code",
      "metadata": {
        "id": "sEPOsPS2UMLg"
      },
      "source": [
        "unemployment_rate_missing = unemployment[unemployment['unemployment_rate'].isnull()]"
      ],
      "execution_count": null,
      "outputs": []
    },
    {
      "cell_type": "markdown",
      "metadata": {
        "id": "A3t7kaQJUMLh"
      },
      "source": [
        "Recall that `unemployment['unemployment_rate'].isnull()` produces an array of boolean values. We used this previously when counting the number of missing values, though we did not see its output. Let's see some of that now."
      ]
    },
    {
      "cell_type": "code",
      "metadata": {
        "id": "I3gnbKpdUMLi"
      },
      "source": [
        "unemployment['unemployment_rate'].isnull()[:10]"
      ],
      "execution_count": null,
      "outputs": []
    },
    {
      "cell_type": "markdown",
      "metadata": {
        "id": "DN8UEOrSUMLj"
      },
      "source": [
        "To create `unemployment_rate_missing`, we're indexing `unemployment` with the array above. This returns only the rows where the value in the array is `True`. Let's see if it worked."
      ]
    },
    {
      "cell_type": "code",
      "metadata": {
        "id": "FvaKgMQiUMLk"
      },
      "source": [
        "unemployment_rate_missing.head()"
      ],
      "execution_count": null,
      "outputs": []
    },
    {
      "cell_type": "markdown",
      "metadata": {
        "id": "974UFSJrUMLp"
      },
      "source": [
        "It is also possible to specify multiple conditions using the `&` operator, but each condition needs to be inside of parentheses. The `.isin()` method, which takes a `list` of values, is useful when you're interested in conditioning on multiple values on a given column. For example, if you want to select multiple countries.\n",
        "\n",
        "Now, we're ready to remove the missing data in `unemployment`. To do this, we can use the `.dropna()` method."
      ]
    },
    {
      "cell_type": "code",
      "metadata": {
        "id": "neOmaFOmUMLq"
      },
      "source": [
        "unemployment.dropna(subset=['unemployment_rate'], inplace=True)"
      ],
      "execution_count": null,
      "outputs": []
    },
    {
      "cell_type": "markdown",
      "metadata": {
        "id": "LpKjqmQHUMLr"
      },
      "source": [
        "(Note that while we have dropped all observations for which `unemployment_rate == NaN`, this doesn't mean that all of our observations overlap exactly in time. We may find that there are dates where we have data for one country and no data for others.)"
      ]
    },
    {
      "cell_type": "markdown",
      "metadata": {
        "id": "AgJQzconUMLs"
      },
      "source": [
        "### Challenge 7: Boolean Indexing\n",
        "Suppose we only want to look at unemployment data from the year 2000 or later. Use Boolean indexing to create a DataFrame with only these years.\n",
        "\n",
        "1. Select the \"year\" column from `unemployment`\n",
        "2. Using the year data, create a **mask**: an array of Booleans where each value is True if and only if the year is 2000 or later. Remember, you can use Boolean operators like `>`, `<`, and `==` on a column\n",
        "3. Use the mask from step 2 to index `unemployment`"
      ]
    },
    {
      "cell_type": "code",
      "metadata": {
        "id": "GzNHoQXLUMLs"
      },
      "source": [
        "# select the year column from unemployment\n",
        "year = ...\n",
        "\n",
        "# create a mask\n",
        "later_or_equal_2000 = ...\n",
        "\n",
        "# Boolean index unemployment\n",
        "..."
      ],
      "execution_count": null,
      "outputs": []
    },
    {
      "cell_type": "markdown",
      "metadata": {
        "id": "ZZjt6VPDUMLu"
      },
      "source": [
        "## 9. Sorting Values\n",
        "\n",
        "At this point, you might be curious to know what the highest unemployment rates were. For this, we'll use the `DataFrame.sort_values()` method to **sort the data.**"
      ]
    },
    {
      "cell_type": "code",
      "metadata": {
        "id": "Yz6fAIpPUMLu"
      },
      "source": [
        "unemployment.sort_values('unemployment_rate', ascending=False)[:5]"
      ],
      "execution_count": null,
      "outputs": []
    },
    {
      "cell_type": "markdown",
      "metadata": {
        "id": "zbJfl6-eUMLv"
      },
      "source": [
        "The above code creates a copy of the `DataFrame`, sorted in *descending* order, and prints the first five rows.\n",
        "\n",
        "You may have noticed that the data set includes a `seasonality` column, which we haven't yet discussed. The unemployment rate in this data is actually calculated in three separate ways. Let's look at the values."
      ]
    },
    {
      "cell_type": "code",
      "metadata": {
        "id": "15easJbxUMLw"
      },
      "source": [
        "unemployment['seasonality'].unique()"
      ],
      "execution_count": null,
      "outputs": []
    },
    {
      "cell_type": "markdown",
      "metadata": {
        "id": "HuxbHXZQUMLx"
      },
      "source": [
        "The three options above correspond to:\n",
        "\n",
        "* not seasonally adjusted\n",
        "* seasonally adjusted\n",
        "* trend cycle\n",
        "\n",
        "We'll stick with seasonally adjusted data so that the values are more comparable. Let's look at the highest unemployment rates in this context."
      ]
    },
    {
      "cell_type": "code",
      "metadata": {
        "id": "287s16iZUMLy"
      },
      "source": [
        "unemployment[unemployment['seasonality'] == 'sa'].sort_values('unemployment_rate', ascending=False)[:5]"
      ],
      "execution_count": null,
      "outputs": []
    },
    {
      "cell_type": "markdown",
      "metadata": {
        "id": "6WbgFiwjUMLz"
      },
      "source": [
        "Spain has the highest seasonally adjusted unemployment rate.\n",
        "\n"
      ]
    },
    {
      "cell_type": "markdown",
      "metadata": {
        "id": "0EHUJayTUML0"
      },
      "source": [
        "## 10. Plotting With Pandas\n",
        "\n",
        "The best way to get a sense of this data is to **plot it.** Next, we'll start to look at some basic plotting with `pandas`. Before we begin, let's sort the data by country and date. This is good practice and is especially important when using `pandas`'s `.plot()` method because the x-axis values are based on the indices. When we sort, the index values remain unchanged. Thus, we need to reset them. The `drop` parameter tells `pandas` to construct a `DataFrame` *without* adding a column."
      ]
    },
    {
      "cell_type": "code",
      "metadata": {
        "id": "mhMAYifpUML0"
      },
      "source": [
        "unemployment.sort_values(['name_en', 'year_month'], inplace=True)\n",
        "unemployment.reset_index(drop=True, inplace=True)"
      ],
      "execution_count": null,
      "outputs": []
    },
    {
      "cell_type": "markdown",
      "metadata": {
        "id": "cuDBClyVUML2"
      },
      "source": [
        "Let's take a look at Spain's unemployment rate (only because it was the highest) across time."
      ]
    },
    {
      "cell_type": "code",
      "metadata": {
        "id": "cOS0dIP9UML2"
      },
      "source": [
        "spain = unemployment[(unemployment['name_en'] == 'Spain') &\n",
        "                     (unemployment['seasonality'] == 'sa')]"
      ],
      "execution_count": null,
      "outputs": []
    },
    {
      "cell_type": "code",
      "metadata": {
        "id": "Mmfjx3r6UML4"
      },
      "source": [
        "spain['unemployment_rate'].plot(figsize=(10, 8), color='#348ABD')"
      ],
      "execution_count": null,
      "outputs": []
    },
    {
      "cell_type": "markdown",
      "metadata": {
        "id": "2iCDklG4UML6"
      },
      "source": [
        "Note that the values along the x-axis represent the indices associated with Spain in the sorted `unemployment` `DataFrame`. Wouldn't it be nice if, instead, we could **show the time period** associated with the various unemployment rates for Spain? It might also be interesting to **compare** Spain's unemployment rate with its neighbor to the west, Portugal.\n",
        "\n",
        "Let's first create a `DataFrame` that contains the unemployment data for both countries."
      ]
    },
    {
      "cell_type": "code",
      "metadata": {
        "id": "FQisCKaKUML9"
      },
      "source": [
        "ps = unemployment[(unemployment['name_en'].isin(['Portugal', 'Spain'])) &\n",
        "                  (unemployment['seasonality'] == 'sa')]"
      ],
      "execution_count": null,
      "outputs": []
    },
    {
      "cell_type": "markdown",
      "metadata": {
        "id": "QF1Kz8BSUML_"
      },
      "source": [
        "Next, we'll **generate time series data** by converting our years and months into `datetime` objects. `pandas` provides a `to_datetime()` function that makes this relatively simple. It converts an argument&mdash;a single value or an array of values&mdash;to `datetime`. (Note that the return value [depends on the input](http://pandas.pydata.org/pandas-docs/stable/generated/pandas.to_datetime.html).) If we were interested in March 23, 1868, for example, we could do the following."
      ]
    },
    {
      "cell_type": "code",
      "metadata": {
        "id": "72h4oksLUMMA"
      },
      "source": [
        "pd.to_datetime('1868/3/23')"
      ],
      "execution_count": null,
      "outputs": []
    },
    {
      "cell_type": "markdown",
      "metadata": {
        "id": "_gM5rKDNUMMC"
      },
      "source": [
        "The argument doesn't necessarily have to be specified in the `yyyy/mm/dd` format. You could list it as `mm/dd/yyyy`, but it's a good idea to be explicit. As a result, we pass in a valid string format."
      ]
    },
    {
      "cell_type": "code",
      "metadata": {
        "id": "WG-2R7qlUMMD"
      },
      "source": [
        "pd.to_datetime('3/23/1868', format='%m/%d/%Y')"
      ],
      "execution_count": null,
      "outputs": []
    },
    {
      "cell_type": "markdown",
      "metadata": {
        "id": "bNoXcljNUMME"
      },
      "source": [
        "Let's create the `datetime` object and add it to the `DataFrame` as a column named `date`. For this, we'll use the `DataFrame.insert()` method."
      ]
    },
    {
      "cell_type": "code",
      "metadata": {
        "id": "A2Fk-HIxUMMG"
      },
      "source": [
        "ps.insert(loc=0, column='date',\n",
        "          value=pd.to_datetime(ps['year'].astype(str) + '/' + ps['month'].astype(str) + '/1'))"
      ],
      "execution_count": null,
      "outputs": []
    },
    {
      "cell_type": "markdown",
      "metadata": {
        "id": "HZB1LLDRUMMI"
      },
      "source": [
        "Finally, let's only keep certain columns, rename them, and reshape the `DataFrame`."
      ]
    },
    {
      "cell_type": "code",
      "metadata": {
        "id": "qK9l6D3RUMMI"
      },
      "source": [
        "ps = ps[['date', 'name_en', 'unemployment_rate']]\n",
        "ps.columns = ['Time Period', 'Country', 'Unemployment Rate']\n",
        "ps = ps.pivot(index='Time Period', columns='Country', values='Unemployment Rate')\n",
        "ps.tail()"
      ],
      "execution_count": null,
      "outputs": []
    },
    {
      "cell_type": "code",
      "metadata": {
        "id": "pwoaNx7MUMMK"
      },
      "source": [
        "ps.head()"
      ],
      "execution_count": null,
      "outputs": []
    },
    {
      "cell_type": "markdown",
      "metadata": {
        "id": "WzU3jU0JUMML"
      },
      "source": [
        "Notice the indices."
      ]
    },
    {
      "cell_type": "code",
      "metadata": {
        "id": "W2QldZtNUMML"
      },
      "source": [
        "ps.plot(figsize=(10, 8), title='Unemployment Rate\\n')"
      ],
      "execution_count": null,
      "outputs": []
    },
    {
      "cell_type": "markdown",
      "metadata": {
        "collapsed": true,
        "id": "G0Xe_m79UMMN"
      },
      "source": [
        "### Challenge 8: Plot without missing values\n",
        "Note that there are some dates for which we lack data on Spain's unemployment rate. What could you do if you wanted your plot to show only dates where both Spain and Portugal have a defined unemployment rate?"
      ]
    },
    {
      "cell_type": "code",
      "metadata": {
        "id": "DBwlxI_TUMMN"
      },
      "source": [
        "# Use this cell to complete Challenge 8\n"
      ],
      "execution_count": null,
      "outputs": []
    },
    {
      "cell_type": "markdown",
      "metadata": {
        "id": "76vGnBXZIWoI"
      },
      "source": [
        "\n",
        "Copyright Statement: Copyright © 2020 Christoforou. The materials provided by the instructor of this course, including this notebook, are for the use of the students enrolled in the course. Materials are presented in an educational context for personal use and study and should not be shared, distributed, disseminated or sold in print — or digitally — outside the course without permission. You may not, nor may you knowingly allow others to reproduce or distribute lecture notes, course materials as well as any of their derivatives without the instructor's express written consent."
      ]
    }
  ]
}